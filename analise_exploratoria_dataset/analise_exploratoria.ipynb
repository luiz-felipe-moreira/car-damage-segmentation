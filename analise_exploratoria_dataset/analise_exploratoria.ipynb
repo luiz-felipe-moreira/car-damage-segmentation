{
 "cells": [
  {
   "cell_type": "code",
   "execution_count": 1,
   "id": "0b1dbcf9-0dab-44da-a565-73bf128b1818",
   "metadata": {},
   "outputs": [],
   "source": [
    "import fiftyone as fo"
   ]
  },
  {
   "cell_type": "code",
   "execution_count": 3,
   "id": "a07b54b2-5c8b-4a95-bde7-79a1c298667b",
   "metadata": {},
   "outputs": [],
   "source": [
    "train_data_path = \"/home/s825860045/Datasets/CarDD_release/CarDD_COCO/train2017\"\n",
    "train_labels_path = \"/home/s825860045/Datasets/CarDD_release/CarDD_COCO/annotations/instances_train2017.json\""
   ]
  },
  {
   "cell_type": "code",
   "execution_count": 15,
   "id": "087a9f11-53d4-4142-a643-3960f044b940",
   "metadata": {},
   "outputs": [
    {
     "name": "stdout",
     "output_type": "stream",
     "text": []
    },
    {
     "name": "stdout",
     "output_type": "stream",
     "text": [
      " 100% |███████████████| 2816/2816 [17.7s elapsed, 0s remaining, 168.1 samples/s]      \n"
     ]
    }
   ],
   "source": [
    "train_dataset = fo.Dataset.from_dir(\n",
    "    dataset_type=fo.types.COCODetectionDataset,\n",
    "    data_path=train_data_path,\n",
    "    labels_path=train_labels_path,\n",
    "    label_field=\"ground_truth\",\n",
    "    label_types=\"segmentations\",\n",
    "    include_id=True\n",
    ")"
   ]
  },
  {
   "cell_type": "code",
   "execution_count": 5,
   "id": "44ed6c48-40d4-40a9-934f-349e8e0f1897",
   "metadata": {},
   "outputs": [
    {
     "data": {
      "text/plain": [
       "Name:        2023.12.03.18.26.09\n",
       "Media type:  image\n",
       "Num samples: 2816\n",
       "Persistent:  False\n",
       "Tags:        []\n",
       "Sample fields:\n",
       "    id:                         fiftyone.core.fields.ObjectIdField\n",
       "    filepath:                   fiftyone.core.fields.StringField\n",
       "    tags:                       fiftyone.core.fields.ListField(fiftyone.core.fields.StringField)\n",
       "    metadata:                   fiftyone.core.fields.EmbeddedDocumentField(fiftyone.core.metadata.ImageMetadata)\n",
       "    ground_truth_segmentations: fiftyone.core.fields.EmbeddedDocumentField(fiftyone.core.labels.Detections)\n",
       "    ground_truth_coco_id:       fiftyone.core.fields.IntField"
      ]
     },
     "execution_count": 5,
     "metadata": {},
     "output_type": "execute_result"
    }
   ],
   "source": [
    "train_dataset"
   ]
  },
  {
   "cell_type": "code",
   "execution_count": 17,
   "id": "f0b85839-800f-49a6-a0ce-2c682aa9b742",
   "metadata": {},
   "outputs": [
    {
     "data": {
      "text/plain": [
       "{'crack': 651,\n",
       " 'tire flat': 225,\n",
       " 'glass shatter': 475,\n",
       " 'scratch': 2560,\n",
       " 'dent': 1806,\n",
       " 'lamp broken': 494}"
      ]
     },
     "execution_count": 17,
     "metadata": {},
     "output_type": "execute_result"
    }
   ],
   "source": [
    "train_dataset_counts = train_dataset.count_values(\"ground_truth_segmentations.detections.label\")\n",
    "train_dataset_counts"
   ]
  },
  {
   "cell_type": "code",
   "execution_count": 6,
   "id": "05377427-35fe-4c42-94b8-452ce14eb60a",
   "metadata": {},
   "outputs": [],
   "source": [
    "validation_data_path = \"/home/s825860045/Datasets/CarDD_release/CarDD_COCO/val2017\"\n",
    "validation_labels_path = \"/home/s825860045/Datasets/CarDD_release/CarDD_COCO/annotations/instances_val2017.json\""
   ]
  },
  {
   "cell_type": "code",
   "execution_count": 7,
   "id": "3ef80ec6-7f07-4572-a2ce-6ad7a32b4c00",
   "metadata": {},
   "outputs": [
    {
     "name": "stdout",
     "output_type": "stream",
     "text": []
    },
    {
     "name": "stdout",
     "output_type": "stream",
     "text": [
      " 100% |█████████████████| 810/810 [5.0s elapsed, 0s remaining, 162.0 samples/s]      \n"
     ]
    }
   ],
   "source": [
    "validation_dataset = fo.Dataset.from_dir(\n",
    "    dataset_type=fo.types.COCODetectionDataset,\n",
    "    data_path=validation_data_path,\n",
    "    labels_path=validation_labels_path,\n",
    "    label_field=\"ground_truth\",\n",
    "    label_types=\"segmentations\",\n",
    "    include_id=True\n",
    ")"
   ]
  },
  {
   "cell_type": "code",
   "execution_count": 8,
   "id": "4e88f1ef-6733-4e55-9d04-9870e540951b",
   "metadata": {},
   "outputs": [
    {
     "data": {
      "text/plain": [
       "Name:        2023.12.03.18.34.10\n",
       "Media type:  image\n",
       "Num samples: 810\n",
       "Persistent:  False\n",
       "Tags:        []\n",
       "Sample fields:\n",
       "    id:                         fiftyone.core.fields.ObjectIdField\n",
       "    filepath:                   fiftyone.core.fields.StringField\n",
       "    tags:                       fiftyone.core.fields.ListField(fiftyone.core.fields.StringField)\n",
       "    metadata:                   fiftyone.core.fields.EmbeddedDocumentField(fiftyone.core.metadata.ImageMetadata)\n",
       "    ground_truth_segmentations: fiftyone.core.fields.EmbeddedDocumentField(fiftyone.core.labels.Detections)\n",
       "    ground_truth_coco_id:       fiftyone.core.fields.IntField"
      ]
     },
     "execution_count": 8,
     "metadata": {},
     "output_type": "execute_result"
    }
   ],
   "source": [
    "validation_dataset"
   ]
  },
  {
   "cell_type": "code",
   "execution_count": 10,
   "id": "afce241d-3170-4903-92d5-348f9b5b58b1",
   "metadata": {},
   "outputs": [],
   "source": [
    "test_data_path = \"/home/s825860045/Datasets/CarDD_release/CarDD_COCO/test2017\"\n",
    "test_labels_path = \"/home/s825860045/Datasets/CarDD_release/CarDD_COCO/annotations/instances_test2017.json\""
   ]
  },
  {
   "cell_type": "code",
   "execution_count": 11,
   "id": "804ce925-a262-490c-999d-d989f7ab1888",
   "metadata": {},
   "outputs": [
    {
     "name": "stdout",
     "output_type": "stream",
     "text": []
    },
    {
     "name": "stdout",
     "output_type": "stream",
     "text": [
      " 100% |█████████████████| 374/374 [2.2s elapsed, 0s remaining, 173.2 samples/s]      \n"
     ]
    }
   ],
   "source": [
    "test_dataset = fo.Dataset.from_dir(\n",
    "    dataset_type=fo.types.COCODetectionDataset,\n",
    "    data_path=test_data_path,\n",
    "    labels_path=test_labels_path,\n",
    "    label_field=\"ground_truth\",\n",
    "    label_types=\"segmentations\",\n",
    "    include_id=True\n",
    ")"
   ]
  },
  {
   "cell_type": "code",
   "execution_count": 12,
   "id": "53ab2589-6cee-4bda-bf65-cd0d56a4b6be",
   "metadata": {},
   "outputs": [
    {
     "data": {
      "text/plain": [
       "Name:        2023.12.03.18.35.40\n",
       "Media type:  image\n",
       "Num samples: 374\n",
       "Persistent:  False\n",
       "Tags:        []\n",
       "Sample fields:\n",
       "    id:                         fiftyone.core.fields.ObjectIdField\n",
       "    filepath:                   fiftyone.core.fields.StringField\n",
       "    tags:                       fiftyone.core.fields.ListField(fiftyone.core.fields.StringField)\n",
       "    metadata:                   fiftyone.core.fields.EmbeddedDocumentField(fiftyone.core.metadata.ImageMetadata)\n",
       "    ground_truth_segmentations: fiftyone.core.fields.EmbeddedDocumentField(fiftyone.core.labels.Detections)\n",
       "    ground_truth_coco_id:       fiftyone.core.fields.IntField"
      ]
     },
     "execution_count": 12,
     "metadata": {},
     "output_type": "execute_result"
    }
   ],
   "source": [
    "test_dataset"
   ]
  },
  {
   "cell_type": "code",
   "execution_count": 28,
   "id": "f12aa710-1844-497f-ad21-d752fac8c3e0",
   "metadata": {},
   "outputs": [],
   "source": [
    "full_dataset = None"
   ]
  },
  {
   "cell_type": "code",
   "execution_count": 30,
   "id": "d84f3ebb-dff2-40fa-b839-29287dbb0ab4",
   "metadata": {},
   "outputs": [
    {
     "name": "stdout",
     "output_type": "stream",
     "text": []
    },
    {
     "name": "stdout",
     "output_type": "stream",
     "text": [
      " 100% |█████████████████| 810/810 [4.8s elapsed, 0s remaining, 161.0 samples/s]      \n",
      " 100% |█████████████████| 374/374 [2.3s elapsed, 0s remaining, 164.5 samples/s]      \n"
     ]
    },
    {
     "data": {
      "text/plain": [
       "Name:        2023.12.03.18.54.01\n",
       "Media type:  image\n",
       "Num samples: 4000\n",
       "Persistent:  False\n",
       "Tags:        []\n",
       "Sample fields:\n",
       "    id:                         fiftyone.core.fields.ObjectIdField\n",
       "    filepath:                   fiftyone.core.fields.StringField\n",
       "    tags:                       fiftyone.core.fields.ListField(fiftyone.core.fields.StringField)\n",
       "    metadata:                   fiftyone.core.fields.EmbeddedDocumentField(fiftyone.core.metadata.ImageMetadata)\n",
       "    ground_truth_segmentations: fiftyone.core.fields.EmbeddedDocumentField(fiftyone.core.labels.Detections)\n",
       "    ground_truth_coco_id:       fiftyone.core.fields.IntField"
      ]
     },
     "execution_count": 30,
     "metadata": {},
     "output_type": "execute_result"
    }
   ],
   "source": [
    "full_dataset = train_dataset.clone()\n",
    "full_dataset.add_samples(validation_dataset)\n",
    "full_dataset.add_samples(test_dataset)\n",
    "full_dataset"
   ]
  },
  {
   "cell_type": "code",
   "execution_count": 31,
   "id": "b452f2a6-8b02-4fd7-9662-151f574493f0",
   "metadata": {},
   "outputs": [
    {
     "data": {
      "text/plain": [
       "{'dent': 2543,\n",
       " 'glass shatter': 681,\n",
       " 'scratch': 3595,\n",
       " 'crack': 898,\n",
       " 'lamp broken': 704,\n",
       " 'tire flat': 319}"
      ]
     },
     "execution_count": 31,
     "metadata": {},
     "output_type": "execute_result"
    }
   ],
   "source": [
    "full_dataset_counts = full_dataset.count_values(\"ground_truth_segmentations.detections.label\")\n",
    "full_dataset_counts"
   ]
  },
  {
   "cell_type": "code",
   "execution_count": 49,
   "id": "ebbd857f-7dbc-4b34-acdf-033b521faf38",
   "metadata": {},
   "outputs": [
    {
     "data": {
      "image/png": "[encoded data removed]",
      "text/plain": [
       "<Figure size 1000x600 with 1 Axes>"
      ]
     },
     "metadata": {},
     "output_type": "display_data"
    }
   ],
   "source": [
    "data = {\n",
    "    'arranhão': 3595,\n",
    "    'amassado': 2543,\n",
    "    'rachadura': 898,\n",
    "    'vidro quebrado': 681,\n",
    "    'farol quebrado': 704,\n",
    "    'pneu vazio': 319,\n",
    "}\n",
    "\n",
    "labels = list(data.keys())\n",
    "values = list(data.values())\n",
    "\n",
    "# Define custom colors for each bar\n",
    "custom_colors = ['dodgerblue', 'pink', 'green', 'purple', 'gold', 'red']\n",
    "\n",
    "plt.figure(figsize=(10, 6))  # Set the figure size (width, height)\n",
    "plt.bar(labels, values, color=custom_colors)  # Specify custom colors for bars\n",
    "\n",
    "plt.xlabel('Categoria do dano', fontsize=14, fontweight=\"bold\")\n",
    "plt.ylabel('Quantidade de instâncias', fontsize=14, fontweight=\"bold\")\n",
    "# plt.title('Quantidade de Instâncias das Diferentes Categorias de Danos')\n",
    "\n",
    "plt.xticks(rotation=45, ha='right', fontsize=13)  # Rotate x-axis labels for better readability\n",
    "plt.yticks(fontsize=12)\n",
    "\n",
    "plt.tight_layout()  # Adjust layout to prevent cutting off labels\n",
    "\n",
    "# Save the plot as a PNG file\n",
    "plt.savefig('fig-instancias-por-categoria.png', dpi=300, bbox_inches='tight')  # Specify the filename and other parameters\n",
    "plt.show()  # Display the plot (optional)\n"
   ]
  }
 ],
 "metadata": {
  "kernelspec": {
   "display_name": "Python 3 (ipykernel)",
   "language": "python",
   "name": "python3"
  },
  "language_info": {
   "codemirror_mode": {
    "name": "ipython",
    "version": 3
   },
   "file_extension": ".py",
   "mimetype": "text/x-python",
   "name": "python",
   "nbconvert_exporter": "python",
   "pygments_lexer": "ipython3",
   "version": "3.8.18"
  }
 },
 "nbformat": 4,
 "nbformat_minor": 5
}
