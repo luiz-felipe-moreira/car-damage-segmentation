{
 "cells": [
  {
   "cell_type": "markdown",
   "id": "e4f571ce-a737-418f-98d6-d28de9b95c5d",
   "metadata": {},
   "source": [
    "# Avaliação dos resultados detalhada\n",
    "Avaliação no conjunto de testes para modelo Mask R-CNN treinado com fine-tuning, backbone ResNet-101 e imagem de entrada de tamanho 512 x 512.  \n",
    "\n",
    "Dataset: CarDD [https://cardd-ustc.github.io]  \n",
    "  \n",
    "Referências: \n",
    "- guia do FiftyOne: [https://docs.voxel51.com/user_guide/evaluation.htm]\n",
    "- notebook de exemplo de avaliação de detecção de objetos com o FiftyOne: [https://colab.research.google.com/github/voxel51/fiftyone/blob/v0.8.0/docs/source/tutorials/evaluate_detections.ipynb]"
   ]
  },
  {
   "cell_type": "code",
   "execution_count": 18,
   "id": "41ad36d9-d081-43ba-83a2-c2e4108f3a5b",
   "metadata": {},
   "outputs": [],
   "source": [
    "import fiftyone as fo\n",
    "import fiftyone.utils.coco as fouc\n",
    "from fiftyone import ViewField as F\n",
    "from pathlib import Path\n",
    "import sklearn.metrics as skm\n",
    "import pandas as pd"
   ]
  },
  {
   "cell_type": "markdown",
   "id": "abcd8bce-8d03-4f05-94ff-4c4ed7b819d3",
   "metadata": {},
   "source": [
    "## Leitura do conjunto de testes e suas anotações"
   ]
  },
  {
   "cell_type": "code",
   "execution_count": 19,
   "id": "981f1d57-53ce-4280-855e-6008ee997d25",
   "metadata": {},
   "outputs": [],
   "source": [
    "# caminho da pasta com as imagens do conjunto de testes\n",
    "data_path = \"/home/s825860045/Datasets/CarDD_release/CarDD_COCO/test2017\"\n",
    "# caminho do arquivo com as anotações do conjunto de testes\n",
    "labels_path = \"/home/s825860045/Datasets/CarDD_release/CarDD_COCO/annotations/instances_test2017.json\""
   ]
  },
  {
   "cell_type": "code",
   "execution_count": 20,
   "id": "c2f6cdfa-71ce-4422-9855-f8eae47cf6b9",
   "metadata": {},
   "outputs": [
    {
     "name": "stdout",
     "output_type": "stream",
     "text": []
    },
    {
     "name": "stdout",
     "output_type": "stream",
     "text": [
      " 100% |█████████████████| 374/374 [1.8s elapsed, 0s remaining, 210.3 samples/s]         \n"
     ]
    }
   ],
   "source": [
    "dataset = fo.Dataset.from_dir(\n",
    "    dataset_type=fo.types.COCODetectionDataset,\n",
    "    data_path=data_path,\n",
    "    labels_path=labels_path,\n",
    "    label_field=\"ground_truth\",\n",
    "    label_types=\"segmentations\",\n",
    "    include_id=True\n",
    ")"
   ]
  },
  {
   "cell_type": "code",
   "execution_count": 21,
   "id": "2ae0516e-6a58-43a7-820f-64ea9fa17f03",
   "metadata": {},
   "outputs": [
    {
     "name": "stdout",
     "output_type": "stream",
     "text": []
    },
    {
     "name": "stdout",
     "output_type": "stream",
     "text": [
      " 100% |█████████████████| 374/374 [2.1s elapsed, 0s remaining, 171.3 samples/s]      \n"
     ]
    }
   ],
   "source": [
    "classes = dataset.default_classes\n",
    "\n",
    "# adiciona e popula o field image_id em todos os samples do dataset, com mesmo valor que havia no JSON de anotação\n",
    "for sample in dataset.iter_samples(progress=True):\n",
    "    sample[\"image_id\"] = int(Path(sample.filepath).stem)\n",
    "    sample.save()"
   ]
  },
  {
   "cell_type": "code",
   "execution_count": 22,
   "id": "f89e7eb6",
   "metadata": {},
   "outputs": [],
   "source": [
    "# Compute metadata so we can reference image height/width in our view\n",
    "dataset.compute_metadata()\n",
    "\n",
    "# Adiciona ao dataset campo com o valor da àrea da máscara\n",
    "for sample in dataset:\n",
    "    frame_size = (sample.metadata.width, sample.metadata.height)\n",
    "    for detection in sample.ground_truth_segmentations.detections:\n",
    "        instance = detection.to_polyline()\n",
    "        detection[\"area\"] = instance.to_shapely(frame_size=frame_size).area\n",
    "\n",
    "    sample.save()"
   ]
  },
  {
   "cell_type": "code",
   "execution_count": 23,
   "id": "99290bcb-6b4c-415e-879f-2d08b6d053c9",
   "metadata": {},
   "outputs": [
    {
     "data": {
      "text/plain": [
       "Name:        2024.02.15.17.19.51\n",
       "Media type:  image\n",
       "Num samples: 374\n",
       "Persistent:  False\n",
       "Tags:        []\n",
       "Sample fields:\n",
       "    id:                         fiftyone.core.fields.ObjectIdField\n",
       "    filepath:                   fiftyone.core.fields.StringField\n",
       "    tags:                       fiftyone.core.fields.ListField(fiftyone.core.fields.StringField)\n",
       "    metadata:                   fiftyone.core.fields.EmbeddedDocumentField(fiftyone.core.metadata.ImageMetadata)\n",
       "    ground_truth_segmentations: fiftyone.core.fields.EmbeddedDocumentField(fiftyone.core.labels.Detections)\n",
       "    ground_truth_coco_id:       fiftyone.core.fields.IntField\n",
       "    image_id:                   fiftyone.core.fields.IntField"
      ]
     },
     "execution_count": 23,
     "metadata": {},
     "output_type": "execute_result"
    }
   ],
   "source": [
    "dataset"
   ]
  },
  {
   "cell_type": "code",
   "execution_count": 24,
   "id": "5f539140-9ad4-4558-b874-b0abfcef07d1",
   "metadata": {},
   "outputs": [
    {
     "name": "stdout",
     "output_type": "stream",
     "text": [
      "Quantidade total de instâncias no ground truth: 785\n"
     ]
    },
    {
     "data": {
      "text/plain": [
       "{'crack': 70,\n",
       " 'lamp broken': 69,\n",
       " 'tire flat': 32,\n",
       " 'scratch': 307,\n",
       " 'dent': 236,\n",
       " 'glass shatter': 71}"
      ]
     },
     "execution_count": 24,
     "metadata": {},
     "output_type": "execute_result"
    }
   ],
   "source": [
    "# Quantidade de objetos no ground truth\n",
    "counts = dataset.count_values(\"ground_truth_segmentations.detections.label\")\n",
    "print('Quantidade total de instâncias no ground truth: {}'.format(sum(list(counts.values()))))\n",
    "counts"
   ]
  },
  {
   "cell_type": "markdown",
   "id": "375b31ab-7d99-4f5b-a886-e4cd5938e10e",
   "metadata": {},
   "source": [
    "## Adiciona as predições ao dataset do FiftyOne"
   ]
  },
  {
   "cell_type": "code",
   "execution_count": 25,
   "id": "4f021830-bee6-4456-af62-1c46158bae04",
   "metadata": {},
   "outputs": [],
   "source": [
    "# caminho do arquivo de resultados (predições para o conjunto de teste) para o modelo 512 x 512 Resnet101 com fine-tuning\n",
    "predictions_file_path = \"/home/s825860045/Projetos/TCC/car-damage-segmentation/analise-resultados/predictions_512_Resnet101.json\"\n",
    "\n",
    "fouc.add_coco_labels(\n",
    "    dataset,\n",
    "    \"predictions\",\n",
    "    predictions_file_path,\n",
    "    classes,\n",
    "    label_type=\"segmentations\",\n",
    "    coco_id_field=\"ground_truth_coco_id\" # O parâmetro coco_id_field especifica o campo usado para mapear predicao <-> sample\n",
    ")"
   ]
  },
  {
   "cell_type": "code",
   "execution_count": 26,
   "id": "c1fef861-9c6d-4a10-9add-1f27c301a155",
   "metadata": {},
   "outputs": [
    {
     "data": {
      "text/plain": [
       "Name:        2024.02.15.17.19.51\n",
       "Media type:  image\n",
       "Num samples: 374\n",
       "Persistent:  False\n",
       "Tags:        []\n",
       "Sample fields:\n",
       "    id:                         fiftyone.core.fields.ObjectIdField\n",
       "    filepath:                   fiftyone.core.fields.StringField\n",
       "    tags:                       fiftyone.core.fields.ListField(fiftyone.core.fields.StringField)\n",
       "    metadata:                   fiftyone.core.fields.EmbeddedDocumentField(fiftyone.core.metadata.ImageMetadata)\n",
       "    ground_truth_segmentations: fiftyone.core.fields.EmbeddedDocumentField(fiftyone.core.labels.Detections)\n",
       "    ground_truth_coco_id:       fiftyone.core.fields.IntField\n",
       "    image_id:                   fiftyone.core.fields.IntField\n",
       "    predictions:                fiftyone.core.fields.EmbeddedDocumentField(fiftyone.core.labels.Detections)"
      ]
     },
     "execution_count": 26,
     "metadata": {},
     "output_type": "execute_result"
    }
   ],
   "source": [
    "dataset"
   ]
  },
  {
   "cell_type": "code",
   "execution_count": 27,
   "id": "ae6bfdc4-136a-4b37-8a00-b5c7b6903e6c",
   "metadata": {},
   "outputs": [
    {
     "data": {
      "text/html": [
       "\n",
       "<style>\n",
       "@import url(\"https://fonts.googleapis.com/css2?family=Palanquin&display=swap\");\n",
       "\n",
       "body, html {\n",
       "  margin: 0;\n",
       "  padding: 0;\n",
       "  width: 100%;\n",
       "}\n",
       "\n",
       "#focontainer-9b4d2adf-71ef-4ee3-b631-07139239e522 {\n",
       "  position: relative;\n",
       "  height: 800px;\n",
       "  display: block !important;\n",
       "}\n",
       "#foactivate-9b4d2adf-71ef-4ee3-b631-07139239e522 {\n",
       "  font-weight: bold;\n",
       "  cursor: pointer;\n",
       "  font-size: 24px;\n",
       "  border-radius: 3px;\n",
       "  text-align: center;\n",
       "  padding: 0.5em;\n",
       "  color: rgb(255, 255, 255);\n",
       "  font-family: \"Palanquin\", sans-serif;\n",
       "  position: absolute;\n",
       "  left: 50%;\n",
       "  top: 50%;\n",
       "  width: 160px;\n",
       "  margin-left: -80px;\n",
       "  margin-top: -23px;\n",
       "  background: hsla(210,11%,15%, 0.8);\n",
       "  border: none;\n",
       "}\n",
       "#foactivate-9b4d2adf-71ef-4ee3-b631-07139239e522:focus {\n",
       "  outline: none;\n",
       "}\n",
       "#fooverlay-9b4d2adf-71ef-4ee3-b631-07139239e522 {\n",
       "  width: 100%;\n",
       "  height: 100%;\n",
       "  background: hsla(208, 7%, 46%, 0.7);\n",
       "  position: absolute;\n",
       "  top: 0;\n",
       "  left: 0;\n",
       "  display: none;\n",
       "  cursor: pointer;\n",
       "}\n",
       "</style>\n",
       "\n",
       "<div id=\"focontainer-9b4d2adf-71ef-4ee3-b631-07139239e522\">\n",
       "   <div id=\"fooverlay-9b4d2adf-71ef-4ee3-b631-07139239e522\" style=\"display: none;\">\n",
       "      <button id=\"foactivate-9b4d2adf-71ef-4ee3-b631-07139239e522\" >Activate</button>\n",
       "   </div>\n",
       "   <img src='data:image/jpeg;base64,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' style=\"width: 100%; max-width: 1098px;\"/>\n",
       "</div>\n",
       "\n",
       "<script type=\"text/javascript\">\n",
       "   (function() {\n",
       "     var container = document.getElementById(\"focontainer-9b4d2adf-71ef-4ee3-b631-07139239e522\");\n",
       "     var overlay = document.getElementById(\"fooverlay-9b4d2adf-71ef-4ee3-b631-07139239e522\");\n",
       "     fetch(`http://localhost:5151/fiftyone`)\n",
       "     .then(() => {\n",
       "        overlay.addEventListener(\"click\", () => {\n",
       "          fetch(`http://localhost:5151/event`, {\n",
       "            method: \"POST\",\n",
       "            body: JSON.stringify({\n",
       "              event: \"reactivate_notebook_cell\",\n",
       "              data: { subscription: \"9b4d2adf-71ef-4ee3-b631-07139239e522\" },\n",
       "              subscription: \"9b4d2adf-71ef-4ee3-b631-07139239e522\"\n",
       "            })\n",
       "          })\n",
       "        });\n",
       "        container.addEventListener(\"mouseenter\", () => overlay.style.display = \"block\");\n",
       "        container.addEventListener(\"mouseleave\", () => overlay.style.display = \"none\");\n",
       "     });\n",
       "   })();\n",
       "</script>"
      ],
      "text/plain": [
       "<IPython.core.display.HTML object>"
      ]
     },
     "metadata": {},
     "output_type": "display_data"
    }
   ],
   "source": [
    "session = fo.launch_app(dataset)"
   ]
  },
  {
   "cell_type": "code",
   "execution_count": 28,
   "id": "b4b8d3df-7859-4b98-b732-9372ec042b3f",
   "metadata": {},
   "outputs": [
    {
     "data": {
      "text/plain": [
       "<Detections: {\n",
       "    'detections': [\n",
       "        <Detection: {\n",
       "            'id': '65ce71e7d4ef4488324a07cb',\n",
       "            'attributes': {},\n",
       "            'tags': [],\n",
       "            'label': 'tire flat',\n",
       "            'bounding_box': [0.03261, 0.331424287856072, 0.33172, 0.4989805097451274],\n",
       "            'mask': array([[False, False, False, ..., False, False, False],\n",
       "                   [False, False, False, ..., False, False, False],\n",
       "                   [False, False, False, ..., False, False, False],\n",
       "                   ...,\n",
       "                   [False, False, False, ..., False, False, False],\n",
       "                   [False, False, False, ..., False, False, False],\n",
       "                   [False, False, False, ..., False, False, False]]),\n",
       "            'confidence': None,\n",
       "            'index': None,\n",
       "            'iscrowd': 0,\n",
       "            'occluded': False,\n",
       "            'area': 85824.71691717155,\n",
       "        }>,\n",
       "        <Detection: {\n",
       "            'id': '65ce71e7d4ef4488324a07cc',\n",
       "            'attributes': {},\n",
       "            'tags': [],\n",
       "            'label': 'tire flat',\n",
       "            'bounding_box': [0.68722, 0.5511694152923539, 0.17413, 0.2263568215892054],\n",
       "            'mask': array([[False, False, False, ..., False, False, False],\n",
       "                   [False, False, False, ..., False, False, False],\n",
       "                   [False, False, False, ..., False, False, False],\n",
       "                   ...,\n",
       "                   [False, False, False, ..., False, False, False],\n",
       "                   [False, False, False, ..., False, False, False],\n",
       "                   [False, False, False, ..., False, False, False]]),\n",
       "            'confidence': None,\n",
       "            'index': None,\n",
       "            'iscrowd': 0,\n",
       "            'occluded': False,\n",
       "            'area': 20860.18732028145,\n",
       "        }>,\n",
       "    ],\n",
       "}>"
      ]
     },
     "execution_count": 28,
     "metadata": {},
     "output_type": "execute_result"
    }
   ],
   "source": [
    "sample = dataset.first()\n",
    "sample.ground_truth_segmentations"
   ]
  },
  {
   "cell_type": "code",
   "execution_count": 29,
   "id": "ab4f394d-c6ce-445b-99fb-e9ec473d2dcf",
   "metadata": {},
   "outputs": [
    {
     "data": {
      "text/html": [
       "\n",
       "<style>\n",
       "@import url(\"https://fonts.googleapis.com/css2?family=Palanquin&display=swap\");\n",
       "\n",
       "body, html {\n",
       "  margin: 0;\n",
       "  padding: 0;\n",
       "  width: 100%;\n",
       "}\n",
       "\n",
       "#focontainer-8e68f750-5c8a-4933-a447-b5a91d771521 {\n",
       "  position: relative;\n",
       "  height: 800px;\n",
       "  display: block !important;\n",
       "}\n",
       "#foactivate-8e68f750-5c8a-4933-a447-b5a91d771521 {\n",
       "  font-weight: bold;\n",
       "  cursor: pointer;\n",
       "  font-size: 24px;\n",
       "  border-radius: 3px;\n",
       "  text-align: center;\n",
       "  padding: 0.5em;\n",
       "  color: rgb(255, 255, 255);\n",
       "  font-family: \"Palanquin\", sans-serif;\n",
       "  position: absolute;\n",
       "  left: 50%;\n",
       "  top: 50%;\n",
       "  width: 160px;\n",
       "  margin-left: -80px;\n",
       "  margin-top: -23px;\n",
       "  background: hsla(210,11%,15%, 0.8);\n",
       "  border: none;\n",
       "}\n",
       "#foactivate-8e68f750-5c8a-4933-a447-b5a91d771521:focus {\n",
       "  outline: none;\n",
       "}\n",
       "#fooverlay-8e68f750-5c8a-4933-a447-b5a91d771521 {\n",
       "  width: 100%;\n",
       "  height: 100%;\n",
       "  background: hsla(208, 7%, 46%, 0.7);\n",
       "  position: absolute;\n",
       "  top: 0;\n",
       "  left: 0;\n",
       "  display: none;\n",
       "  cursor: pointer;\n",
       "}\n",
       "</style>\n",
       "\n",
       "<div id=\"focontainer-8e68f750-5c8a-4933-a447-b5a91d771521\">\n",
       "   <div id=\"fooverlay-8e68f750-5c8a-4933-a447-b5a91d771521\" style=\"display: none;\">\n",
       "      <button id=\"foactivate-8e68f750-5c8a-4933-a447-b5a91d771521\" >Activate</button>\n",
       "   </div>\n",
       "   <img src='data:image/jpeg;base64,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' style=\"width: 100%; max-width: 1098px;\"/>\n",
       "</div>\n",
       "\n",
       "<script type=\"text/javascript\">\n",
       "   (function() {\n",
       "     var container = document.getElementById(\"focontainer-8e68f750-5c8a-4933-a447-b5a91d771521\");\n",
       "     var overlay = document.getElementById(\"fooverlay-8e68f750-5c8a-4933-a447-b5a91d771521\");\n",
       "     fetch(`http://localhost:5151/fiftyone`)\n",
       "     .then(() => {\n",
       "        overlay.addEventListener(\"click\", () => {\n",
       "          fetch(`http://localhost:5151/event`, {\n",
       "            method: \"POST\",\n",
       "            body: JSON.stringify({\n",
       "              event: \"reactivate_notebook_cell\",\n",
       "              data: { subscription: \"8e68f750-5c8a-4933-a447-b5a91d771521\" },\n",
       "              subscription: \"8e68f750-5c8a-4933-a447-b5a91d771521\"\n",
       "            })\n",
       "          })\n",
       "        });\n",
       "        container.addEventListener(\"mouseenter\", () => overlay.style.display = \"block\");\n",
       "        container.addEventListener(\"mouseleave\", () => overlay.style.display = \"none\");\n",
       "     });\n",
       "   })();\n",
       "</script>"
      ],
      "text/plain": [
       "<IPython.core.display.HTML object>"
      ]
     },
     "metadata": {},
     "output_type": "display_data"
    }
   ],
   "source": [
    "# Exibe imagens que não tiveram nenhum objeto identificado na predição\n",
    "no_predictions_view = dataset.exists(\"predictions\", False)\n",
    "session = fo.launch_app(view=no_predictions_view)"
   ]
  },
  {
   "cell_type": "markdown",
   "id": "2cfd8016-0e31-4dc2-9356-42ea6304feb8",
   "metadata": {},
   "source": [
    "## Executa a avaliação dos resultados da segmentação"
   ]
  },
  {
   "cell_type": "code",
   "execution_count": 30,
   "id": "e1bdddfc-3077-4629-a8f3-d2e3c597a01a",
   "metadata": {},
   "outputs": [
    {
     "name": "stdout",
     "output_type": "stream",
     "text": [
      "Evaluating detections...\n",
      " 100% |█████████████████| 374/374 [11.0s elapsed, 0s remaining, 38.4 samples/s]      \n",
      "Performing IoU sweep...\n",
      " 100% |█████████████████| 374/374 [11.0s elapsed, 0s remaining, 34.4 samples/s]      \n"
     ]
    }
   ],
   "source": [
    "results = dataset.evaluate_detections(\n",
    "    \"predictions\",\n",
    "    gt_field=\"ground_truth_segmentations\",\n",
    "    method=\"coco\",\n",
    "    compute_mAP=True,\n",
    "    use_masks=True # para avaliar segmentação, usando as máscaras para calcular o IoU\n",
    ")"
   ]
  },
  {
   "cell_type": "code",
   "execution_count": 31,
   "id": "dda5762c-7df0-43ce-aa33-7ce639d22ad9",
   "metadata": {},
   "outputs": [
    {
     "name": "stdout",
     "output_type": "stream",
     "text": [
      "0.42945615057179554\n"
     ]
    }
   ],
   "source": [
    "print(results.mAP())"
   ]
  },
  {
   "cell_type": "code",
   "execution_count": 32,
   "id": "3a5d9427-8d98-41b7-8945-5c884efa9124",
   "metadata": {},
   "outputs": [
    {
     "data": {
      "text/plain": []
     },
     "metadata": {},
     "output_type": "display_data"
    },
    {
     "data": {
      "text/plain": []
     },
     "metadata": {},
     "output_type": "display_data"
    },
    {
     "data": {
      "application/vnd.jupyter.widget-view+json": {
       "model_id": "6c785a3951894e48bfab650f59086f51",
       "version_major": 2,
       "version_minor": 0
      },
      "text/plain": [
       "FigureWidget({\n",
       "    'data': [{'customdata': array([0.99999332, 0.99999332, 0.99999285, 0.99999142, 0.99999142, 0.99999058,\n",
       "                                   0.99999034, 0.99999034, 0.99998569, 0.99998105, 0.99998009, 0.99998009,\n",
       "                                   0.99997318, 0.99997091, 0.99997091, 0.99996758, 0.9999665 , 0.99996173,\n",
       "                                   0.99996173, 0.99996018, 0.99995375, 0.99995375, 0.99995196, 0.99994755,\n",
       "                                   0.99994683, 0.99994683, 0.99994099, 0.99993598, 0.99993598, 0.99993491,\n",
       "                                   0.99993038, 0.99992526, 0.99992526, 0.9999243 , 0.99992239, 0.99992239,\n",
       "                                   0.99992144, 0.99992073, 0.99992073, 0.99991715, 0.99991083, 0.99990726,\n",
       "                                   0.99990726, 0.99988985, 0.99988937, 0.99988937, 0.99987483, 0.9998517 ,\n",
       "                                   0.99985003, 0.99985003, 0.99984396, 0.99982232, 0.99982232, 0.99977201,\n",
       "                                   0.99973553, 0.9997279 , 0.9997279 , 0.99972707, 0.99971038, 0.99971038,\n",
       "                                   0.99967563, 0.99964595, 0.99962854, 0.99962854, 0.99961299, 0.9995566 ,\n",
       "                                   0.9995566 , 0.99952245, 0.99924988, 0.99924988, 0.99914157, 0.9988097 ,\n",
       "                                   0.99871981, 0.99871981, 0.99870074, 0.99858886, 0.99858886, 0.99824023,\n",
       "                                   0.99794334, 0.99672073, 0.99672073, 0.9965995 , 0.99511248, 0.99511248,\n",
       "                                   0.99379277, 0.9936341 , 0.99252057, 0.99252057, 0.9922505 , 0.98798239,\n",
       "                                   0.98798239, 0.96045297, 0.8839848 , 0.        , 0.        , 0.        ,\n",
       "                                   0.        , 0.        , 0.        , 0.        , 0.        ]),\n",
       "              'hovertemplate': ('<b>class: %{text}</b><br>recal' ... 'customdata:.3f}<extra></extra>'),\n",
       "              'line': {'color': '#3366CC'},\n",
       "              'mode': 'lines',\n",
       "              'name': 'glass shatter (AP = 0.920)',\n",
       "              'text': array(['glass shatter', 'glass shatter', 'glass shatter', 'glass shatter',\n",
       "                             'glass shatter', 'glass shatter', 'glass shatter', 'glass shatter',\n",
       "                             'glass shatter', 'glass shatter', 'glass shatter', 'glass shatter',\n",
       "                             'glass shatter', 'glass shatter', 'glass shatter', 'glass shatter',\n",
       "                             'glass shatter', 'glass shatter', 'glass shatter', 'glass shatter',\n",
       "                             'glass shatter', 'glass shatter', 'glass shatter', 'glass shatter',\n",
       "                             'glass shatter', 'glass shatter', 'glass shatter', 'glass shatter',\n",
       "                             'glass shatter', 'glass shatter', 'glass shatter', 'glass shatter',\n",
       "                             'glass shatter', 'glass shatter', 'glass shatter', 'glass shatter',\n",
       "                             'glass shatter', 'glass shatter', 'glass shatter', 'glass shatter',\n",
       "                             'glass shatter', 'glass shatter', 'glass shatter', 'glass shatter',\n",
       "                             'glass shatter', 'glass shatter', 'glass shatter', 'glass shatter',\n",
       "                             'glass shatter', 'glass shatter', 'glass shatter', 'glass shatter',\n",
       "                             'glass shatter', 'glass shatter', 'glass shatter', 'glass shatter',\n",
       "                             'glass shatter', 'glass shatter', 'glass shatter', 'glass shatter',\n",
       "                             'glass shatter', 'glass shatter', 'glass shatter', 'glass shatter',\n",
       "                             'glass shatter', 'glass shatter', 'glass shatter', 'glass shatter',\n",
       "                             'glass shatter', 'glass shatter', 'glass shatter', 'glass shatter',\n",
       "                             'glass shatter', 'glass shatter', 'glass shatter', 'glass shatter',\n",
       "                             'glass shatter', 'glass shatter', 'glass shatter', 'glass shatter',\n",
       "                             'glass shatter', 'glass shatter', 'glass shatter', 'glass shatter',\n",
       "                             'glass shatter', 'glass shatter', 'glass shatter', 'glass shatter',\n",
       "                             'glass shatter', 'glass shatter', 'glass shatter', 'glass shatter',\n",
       "                             'glass shatter', 'glass shatter', 'glass shatter', 'glass shatter',\n",
       "                             'glass shatter', 'glass shatter', 'glass shatter', 'glass shatter',\n",
       "                             'glass shatter'], dtype='<U13'),\n",
       "              'type': 'scatter',\n",
       "              'uid': 'a1296799-ae4d-4589-957c-897c9b2f6b14',\n",
       "              'x': array([0.  , 0.01, 0.02, 0.03, 0.04, 0.05, 0.06, 0.07, 0.08, 0.09, 0.1 , 0.11,\n",
       "                          0.12, 0.13, 0.14, 0.15, 0.16, 0.17, 0.18, 0.19, 0.2 , 0.21, 0.22, 0.23,\n",
       "                          0.24, 0.25, 0.26, 0.27, 0.28, 0.29, 0.3 , 0.31, 0.32, 0.33, 0.34, 0.35,\n",
       "                          0.36, 0.37, 0.38, 0.39, 0.4 , 0.41, 0.42, 0.43, 0.44, 0.45, 0.46, 0.47,\n",
       "                          0.48, 0.49, 0.5 , 0.51, 0.52, 0.53, 0.54, 0.55, 0.56, 0.57, 0.58, 0.59,\n",
       "                          0.6 , 0.61, 0.62, 0.63, 0.64, 0.65, 0.66, 0.67, 0.68, 0.69, 0.7 , 0.71,\n",
       "                          0.72, 0.73, 0.74, 0.75, 0.76, 0.77, 0.78, 0.79, 0.8 , 0.81, 0.82, 0.83,\n",
       "                          0.84, 0.85, 0.86, 0.87, 0.88, 0.89, 0.9 , 0.91, 0.92, 0.93, 0.94, 0.95,\n",
       "                          0.96, 0.97, 0.98, 0.99, 1.  ]),\n",
       "              'y': array([1.        , 1.        , 1.        , 1.        , 1.        , 1.        ,\n",
       "                          1.        , 1.        , 1.        , 1.        , 1.        , 1.        ,\n",
       "                          1.        , 1.        , 1.        , 1.        , 1.        , 1.        ,\n",
       "                          1.        , 1.        , 1.        , 1.        , 1.        , 1.        ,\n",
       "                          1.        , 1.        , 1.        , 1.        , 1.        , 1.        ,\n",
       "                          1.        , 1.        , 1.        , 1.        , 1.        , 1.        ,\n",
       "                          1.        , 1.        , 1.        , 1.        , 1.        , 1.        ,\n",
       "                          1.        , 1.        , 1.        , 1.        , 1.        , 1.        ,\n",
       "                          1.        , 1.        , 1.        , 1.        , 1.        , 1.        ,\n",
       "                          1.        , 1.        , 1.        , 1.        , 1.        , 1.        ,\n",
       "                          1.        , 1.        , 1.        , 1.        , 1.        , 1.        ,\n",
       "                          1.        , 1.        , 1.        , 1.        , 1.        , 1.        ,\n",
       "                          1.        , 1.        , 1.        , 1.        , 1.        , 1.        ,\n",
       "                          1.        , 1.        , 1.        , 1.        , 1.        , 1.        ,\n",
       "                          1.        , 1.        , 1.        , 1.        , 1.        , 0.98461538,\n",
       "                          0.98461538, 0.97058824, 0.97058824, 0.        , 0.        , 0.        ,\n",
       "                          0.        , 0.        , 0.        , 0.        , 0.        ])},\n",
       "             {'customdata': array([0.99998581, 0.99998581, 0.99998581, 0.99998581, 0.99996388, 0.99996388,\n",
       "                                   0.99996388, 0.99995768, 0.99995768, 0.99995768, 0.99995267, 0.99995267,\n",
       "                                   0.99995267, 0.99995089, 0.99995089, 0.99995089, 0.99994648, 0.99994648,\n",
       "                                   0.99994648, 0.99993777, 0.99993777, 0.99993777, 0.99993372, 0.99993372,\n",
       "                                   0.99993372, 0.99993372, 0.99992931, 0.99992931, 0.99992931, 0.9999249 ,\n",
       "                                   0.9999249 , 0.9999249 , 0.99992478, 0.99992478, 0.99992478, 0.99992371,\n",
       "                                   0.99992371, 0.99992371, 0.99990737, 0.99990737, 0.99990737, 0.9999007 ,\n",
       "                                   0.9999007 , 0.9999007 , 0.99990046, 0.99990046, 0.99990046, 0.99989998,\n",
       "                                   0.99989998, 0.99989998, 0.99989998, 0.99988556, 0.99988556, 0.99988556,\n",
       "                                   0.99981254, 0.99981254, 0.99981254, 0.99979621, 0.99979621, 0.99979621,\n",
       "                                   0.99979562, 0.99979562, 0.99979562, 0.99967682, 0.99967682, 0.99967682,\n",
       "                                   0.99932945, 0.99932945, 0.99932945, 0.99892873, 0.99892873, 0.99892873,\n",
       "                                   0.99719429, 0.99719429, 0.99719429, 0.99719429, 0.84598976, 0.84598976,\n",
       "                                   0.84598976, 0.76000303, 0.76000303, 0.76000303, 0.08290565, 0.08290565,\n",
       "                                   0.08290565, 0.        , 0.        , 0.        , 0.        , 0.        ,\n",
       "                                   0.        , 0.        , 0.        , 0.        , 0.        , 0.        ,\n",
       "                                   0.        , 0.        , 0.        , 0.        , 0.        ]),\n",
       "              'hovertemplate': ('<b>class: %{text}</b><br>recal' ... 'customdata:.3f}<extra></extra>'),\n",
       "              'line': {'color': '#DC3912'},\n",
       "              'mode': 'lines',\n",
       "              'name': 'tire flat (AP = 0.833)',\n",
       "              'text': array(['tire flat', 'tire flat', 'tire flat', 'tire flat', 'tire flat',\n",
       "                             'tire flat', 'tire flat', 'tire flat', 'tire flat', 'tire flat',\n",
       "                             'tire flat', 'tire flat', 'tire flat', 'tire flat', 'tire flat',\n",
       "                             'tire flat', 'tire flat', 'tire flat', 'tire flat', 'tire flat',\n",
       "                             'tire flat', 'tire flat', 'tire flat', 'tire flat', 'tire flat',\n",
       "                             'tire flat', 'tire flat', 'tire flat', 'tire flat', 'tire flat',\n",
       "                             'tire flat', 'tire flat', 'tire flat', 'tire flat', 'tire flat',\n",
       "                             'tire flat', 'tire flat', 'tire flat', 'tire flat', 'tire flat',\n",
       "                             'tire flat', 'tire flat', 'tire flat', 'tire flat', 'tire flat',\n",
       "                             'tire flat', 'tire flat', 'tire flat', 'tire flat', 'tire flat',\n",
       "                             'tire flat', 'tire flat', 'tire flat', 'tire flat', 'tire flat',\n",
       "                             'tire flat', 'tire flat', 'tire flat', 'tire flat', 'tire flat',\n",
       "                             'tire flat', 'tire flat', 'tire flat', 'tire flat', 'tire flat',\n",
       "                             'tire flat', 'tire flat', 'tire flat', 'tire flat', 'tire flat',\n",
       "                             'tire flat', 'tire flat', 'tire flat', 'tire flat', 'tire flat',\n",
       "                             'tire flat', 'tire flat', 'tire flat', 'tire flat', 'tire flat',\n",
       "                             'tire flat', 'tire flat', 'tire flat', 'tire flat', 'tire flat',\n",
       "                             'tire flat', 'tire flat', 'tire flat', 'tire flat', 'tire flat',\n",
       "                             'tire flat', 'tire flat', 'tire flat', 'tire flat', 'tire flat',\n",
       "                             'tire flat', 'tire flat', 'tire flat', 'tire flat', 'tire flat',\n",
       "                             'tire flat'], dtype='<U9'),\n",
       "              'type': 'scatter',\n",
       "              'uid': 'caa0a100-1062-433e-a7b5-868be95691bd',\n",
       "              'x': array([0.  , 0.01, 0.02, 0.03, 0.04, 0.05, 0.06, 0.07, 0.08, 0.09, 0.1 , 0.11,\n",
       "                          0.12, 0.13, 0.14, 0.15, 0.16, 0.17, 0.18, 0.19, 0.2 , 0.21, 0.22, 0.23,\n",
       "                          0.24, 0.25, 0.26, 0.27, 0.28, 0.29, 0.3 , 0.31, 0.32, 0.33, 0.34, 0.35,\n",
       "                          0.36, 0.37, 0.38, 0.39, 0.4 , 0.41, 0.42, 0.43, 0.44, 0.45, 0.46, 0.47,\n",
       "                          0.48, 0.49, 0.5 , 0.51, 0.52, 0.53, 0.54, 0.55, 0.56, 0.57, 0.58, 0.59,\n",
       "                          0.6 , 0.61, 0.62, 0.63, 0.64, 0.65, 0.66, 0.67, 0.68, 0.69, 0.7 , 0.71,\n",
       "                          0.72, 0.73, 0.74, 0.75, 0.76, 0.77, 0.78, 0.79, 0.8 , 0.81, 0.82, 0.83,\n",
       "                          0.84, 0.85, 0.86, 0.87, 0.88, 0.89, 0.9 , 0.91, 0.92, 0.93, 0.94, 0.95,\n",
       "                          0.96, 0.97, 0.98, 0.99, 1.  ]),\n",
       "              'y': array([1.        , 1.        , 1.        , 1.        , 1.        , 1.        ,\n",
       "                          1.        , 1.        , 1.        , 1.        , 1.        , 1.        ,\n",
       "                          1.        , 1.        , 1.        , 1.        , 1.        , 1.        ,\n",
       "                          1.        , 1.        , 1.        , 1.        , 1.        , 1.        ,\n",
       "                          1.        , 1.        , 1.        , 1.        , 1.        , 1.        ,\n",
       "                          1.        , 1.        , 1.        , 1.        , 1.        , 1.        ,\n",
       "                          1.        , 1.        , 1.        , 1.        , 1.        , 1.        ,\n",
       "                          1.        , 1.        , 1.        , 1.        , 1.        , 1.        ,\n",
       "                          1.        , 1.        , 1.        , 1.        , 1.        , 1.        ,\n",
       "                          1.        , 1.        , 1.        , 1.        , 1.        , 1.        ,\n",
       "                          1.        , 1.        , 1.        , 1.        , 1.        , 1.        ,\n",
       "                          1.        , 1.        , 1.        , 1.        , 1.        , 1.        ,\n",
       "                          1.        , 1.        , 1.        , 1.        , 0.92857143, 0.92857143,\n",
       "                          0.92857143, 0.92857143, 0.92857143, 0.92857143, 0.84375   , 0.84375   ,\n",
       "                          0.84375   , 0.        , 0.        , 0.        , 0.        , 0.        ,\n",
       "                          0.        , 0.        , 0.        , 0.        , 0.        , 0.        ,\n",
       "                          0.        , 0.        , 0.        , 0.        , 0.        ])},\n",
       "             {'customdata': array([0.99998701, 0.99998701, 0.99998224, 0.99997509, 0.99997509, 0.99997127,\n",
       "                                   0.99996793, 0.99996793, 0.99996686, 0.99996114, 0.99996114, 0.99995744,\n",
       "                                   0.99995375, 0.99995375, 0.99994338, 0.9999429 , 0.99989116, 0.99989116,\n",
       "                                   0.99986672, 0.99982435, 0.99982435, 0.99976939, 0.99976498, 0.99976498,\n",
       "                                   0.99954152, 0.99900109, 0.99900109, 0.99876595, 0.99867946, 0.99840999,\n",
       "                                   0.99840999, 0.99826658, 0.9967258 , 0.9967258 , 0.99610525, 0.99598604,\n",
       "                                   0.99598604, 0.99575847, 0.99530751, 0.99530751, 0.99478734, 0.99130017,\n",
       "                                   0.99130017, 0.99040866, 0.98043412, 0.97964513, 0.97964513, 0.97413784,\n",
       "                                   0.95325017, 0.95325017, 0.93588376, 0.92881662, 0.92881662, 0.91691244,\n",
       "                                   0.87334329, 0.87334329, 0.82209146, 0.7984395 , 0.79766232, 0.79766232,\n",
       "                                   0.71323121, 0.70803553, 0.70803553, 0.4721179 , 0.20648097, 0.20648097,\n",
       "                                   0.18583253, 0.08187409, 0.08187409, 0.        , 0.        , 0.        ,\n",
       "                                   0.        , 0.        , 0.        , 0.        , 0.        , 0.        ,\n",
       "                                   0.        , 0.        , 0.        , 0.        , 0.        , 0.        ,\n",
       "                                   0.        , 0.        , 0.        , 0.        , 0.        , 0.        ,\n",
       "                                   0.        , 0.        , 0.        , 0.        , 0.        , 0.        ,\n",
       "                                   0.        , 0.        , 0.        , 0.        , 0.        ]),\n",
       "              'hovertemplate': ('<b>class: %{text}</b><br>recal' ... 'customdata:.3f}<extra></extra>'),\n",
       "              'line': {'color': '#FF9900'},\n",
       "              'mode': 'lines',\n",
       "              'name': 'lamp broken (AP = 0.599)',\n",
       "              'text': array(['lamp broken', 'lamp broken', 'lamp broken', 'lamp broken',\n",
       "                             'lamp broken', 'lamp broken', 'lamp broken', 'lamp broken',\n",
       "                             'lamp broken', 'lamp broken', 'lamp broken', 'lamp broken',\n",
       "                             'lamp broken', 'lamp broken', 'lamp broken', 'lamp broken',\n",
       "                             'lamp broken', 'lamp broken', 'lamp broken', 'lamp broken',\n",
       "                             'lamp broken', 'lamp broken', 'lamp broken', 'lamp broken',\n",
       "                             'lamp broken', 'lamp broken', 'lamp broken', 'lamp broken',\n",
       "                             'lamp broken', 'lamp broken', 'lamp broken', 'lamp broken',\n",
       "                             'lamp broken', 'lamp broken', 'lamp broken', 'lamp broken',\n",
       "                             'lamp broken', 'lamp broken', 'lamp broken', 'lamp broken',\n",
       "                             'lamp broken', 'lamp broken', 'lamp broken', 'lamp broken',\n",
       "                             'lamp broken', 'lamp broken', 'lamp broken', 'lamp broken',\n",
       "                             'lamp broken', 'lamp broken', 'lamp broken', 'lamp broken',\n",
       "                             'lamp broken', 'lamp broken', 'lamp broken', 'lamp broken',\n",
       "                             'lamp broken', 'lamp broken', 'lamp broken', 'lamp broken',\n",
       "                             'lamp broken', 'lamp broken', 'lamp broken', 'lamp broken',\n",
       "                             'lamp broken', 'lamp broken', 'lamp broken', 'lamp broken',\n",
       "                             'lamp broken', 'lamp broken', 'lamp broken', 'lamp broken',\n",
       "                             'lamp broken', 'lamp broken', 'lamp broken', 'lamp broken',\n",
       "                             'lamp broken', 'lamp broken', 'lamp broken', 'lamp broken',\n",
       "                             'lamp broken', 'lamp broken', 'lamp broken', 'lamp broken',\n",
       "                             'lamp broken', 'lamp broken', 'lamp broken', 'lamp broken',\n",
       "                             'lamp broken', 'lamp broken', 'lamp broken', 'lamp broken',\n",
       "                             'lamp broken', 'lamp broken', 'lamp broken', 'lamp broken',\n",
       "                             'lamp broken', 'lamp broken', 'lamp broken', 'lamp broken',\n",
       "                             'lamp broken'], dtype='<U11'),\n",
       "              'type': 'scatter',\n",
       "              'uid': '985a6b7d-d15f-4550-ac5c-141dccf80d70',\n",
       "              'x': array([0.  , 0.01, 0.02, 0.03, 0.04, 0.05, 0.06, 0.07, 0.08, 0.09, 0.1 , 0.11,\n",
       "                          0.12, 0.13, 0.14, 0.15, 0.16, 0.17, 0.18, 0.19, 0.2 , 0.21, 0.22, 0.23,\n",
       "                          0.24, 0.25, 0.26, 0.27, 0.28, 0.29, 0.3 , 0.31, 0.32, 0.33, 0.34, 0.35,\n",
       "                          0.36, 0.37, 0.38, 0.39, 0.4 , 0.41, 0.42, 0.43, 0.44, 0.45, 0.46, 0.47,\n",
       "                          0.48, 0.49, 0.5 , 0.51, 0.52, 0.53, 0.54, 0.55, 0.56, 0.57, 0.58, 0.59,\n",
       "                          0.6 , 0.61, 0.62, 0.63, 0.64, 0.65, 0.66, 0.67, 0.68, 0.69, 0.7 , 0.71,\n",
       "                          0.72, 0.73, 0.74, 0.75, 0.76, 0.77, 0.78, 0.79, 0.8 , 0.81, 0.82, 0.83,\n",
       "                          0.84, 0.85, 0.86, 0.87, 0.88, 0.89, 0.9 , 0.91, 0.92, 0.93, 0.94, 0.95,\n",
       "                          0.96, 0.97, 0.98, 0.99, 1.  ]),\n",
       "              'y': array([1.        , 1.        , 1.        , 1.        , 1.        , 1.        ,\n",
       "                          1.        , 1.        , 1.        , 1.        , 1.        , 1.        ,\n",
       "                          1.        , 1.        , 1.        , 1.        , 1.        , 1.        ,\n",
       "                          0.94444444, 0.94444444, 0.94444444, 0.94444444, 0.94444444, 0.94444444,\n",
       "                          0.94444444, 0.91666667, 0.91666667, 0.91666667, 0.91666667, 0.91666667,\n",
       "                          0.91666667, 0.91666667, 0.90322581, 0.90322581, 0.90322581, 0.90322581,\n",
       "                          0.90322581, 0.90322581, 0.90322581, 0.90322581, 0.90322581, 0.88235294,\n",
       "                          0.88235294, 0.88235294, 0.84615385, 0.84615385, 0.84615385, 0.84615385,\n",
       "                          0.81818182, 0.81818182, 0.81818182, 0.81818182, 0.81818182, 0.80434783,\n",
       "                          0.78      , 0.78      , 0.78      , 0.75925926, 0.75925926, 0.75925926,\n",
       "                          0.72881356, 0.72881356, 0.72881356, 0.67692308, 0.61333333, 0.61333333,\n",
       "                          0.61333333, 0.55952381, 0.55952381, 0.        , 0.        , 0.        ,\n",
       "                          0.        , 0.        , 0.        , 0.        , 0.        , 0.        ,\n",
       "                          0.        , 0.        , 0.        , 0.        , 0.        , 0.        ,\n",
       "                          0.        , 0.        , 0.        , 0.        , 0.        , 0.        ,\n",
       "                          0.        , 0.        , 0.        , 0.        , 0.        , 0.        ,\n",
       "                          0.        , 0.        , 0.        , 0.        , 0.        ])},\n",
       "             {'customdata': array([0.99999785, 0.99999416, 0.99999261, 0.99998963, 0.99998832, 0.99998701,\n",
       "                                   0.99998283, 0.9999814 , 0.9999752 , 0.99996996, 0.99996269, 0.99995852,\n",
       "                                   0.99995661, 0.99995291, 0.99994695, 0.99994409, 0.99993312, 0.9999131 ,\n",
       "                                   0.99990869, 0.99989569, 0.99987459, 0.99985492, 0.99983156, 0.99980456,\n",
       "                                   0.99979943, 0.99978203, 0.99958605, 0.99950111, 0.9992187 , 0.9989512 ,\n",
       "                                   0.99889046, 0.99844676, 0.99840492, 0.99822861, 0.99811232, 0.99706203,\n",
       "                                   0.99602282, 0.99449664, 0.99245489, 0.98001766, 0.9771564 , 0.96505952,\n",
       "                                   0.93730009, 0.91887867, 0.91794866, 0.90431142, 0.88689268, 0.84704626,\n",
       "                                   0.7969889 , 0.7787044 , 0.71900213, 0.6051209 , 0.46020132, 0.3383812 ,\n",
       "                                   0.26163599, 0.22330013, 0.11911856, 0.09436291, 0.05550567, 0.        ,\n",
       "                                   0.        , 0.        , 0.        , 0.        , 0.        , 0.        ,\n",
       "                                   0.        , 0.        , 0.        , 0.        , 0.        , 0.        ,\n",
       "                                   0.        , 0.        , 0.        , 0.        , 0.        , 0.        ,\n",
       "                                   0.        , 0.        , 0.        , 0.        , 0.        , 0.        ,\n",
       "                                   0.        , 0.        , 0.        , 0.        , 0.        , 0.        ,\n",
       "                                   0.        , 0.        , 0.        , 0.        , 0.        , 0.        ,\n",
       "                                   0.        , 0.        , 0.        , 0.        , 0.        ]),\n",
       "              'hovertemplate': ('<b>class: %{text}</b><br>recal' ... 'customdata:.3f}<extra></extra>'),\n",
       "              'line': {'color': '#109618'},\n",
       "              'mode': 'lines',\n",
       "              'name': 'dent (AP = 0.498)',\n",
       "              'text': array(['dent', 'dent', 'dent', 'dent', 'dent', 'dent', 'dent', 'dent', 'dent',\n",
       "                             'dent', 'dent', 'dent', 'dent', 'dent', 'dent', 'dent', 'dent', 'dent',\n",
       "                             'dent', 'dent', 'dent', 'dent', 'dent', 'dent', 'dent', 'dent', 'dent',\n",
       "                             'dent', 'dent', 'dent', 'dent', 'dent', 'dent', 'dent', 'dent', 'dent',\n",
       "                             'dent', 'dent', 'dent', 'dent', 'dent', 'dent', 'dent', 'dent', 'dent',\n",
       "                             'dent', 'dent', 'dent', 'dent', 'dent', 'dent', 'dent', 'dent', 'dent',\n",
       "                             'dent', 'dent', 'dent', 'dent', 'dent', 'dent', 'dent', 'dent', 'dent',\n",
       "                             'dent', 'dent', 'dent', 'dent', 'dent', 'dent', 'dent', 'dent', 'dent',\n",
       "                             'dent', 'dent', 'dent', 'dent', 'dent', 'dent', 'dent', 'dent', 'dent',\n",
       "                             'dent', 'dent', 'dent', 'dent', 'dent', 'dent', 'dent', 'dent', 'dent',\n",
       "                             'dent', 'dent', 'dent', 'dent', 'dent', 'dent', 'dent', 'dent', 'dent',\n",
       "                             'dent', 'dent'], dtype='<U4'),\n",
       "              'type': 'scatter',\n",
       "              'uid': '9a15d615-954c-40fe-87b7-4d7f88015af1',\n",
       "              'x': array([0.  , 0.01, 0.02, 0.03, 0.04, 0.05, 0.06, 0.07, 0.08, 0.09, 0.1 , 0.11,\n",
       "                          0.12, 0.13, 0.14, 0.15, 0.16, 0.17, 0.18, 0.19, 0.2 , 0.21, 0.22, 0.23,\n",
       "                          0.24, 0.25, 0.26, 0.27, 0.28, 0.29, 0.3 , 0.31, 0.32, 0.33, 0.34, 0.35,\n",
       "                          0.36, 0.37, 0.38, 0.39, 0.4 , 0.41, 0.42, 0.43, 0.44, 0.45, 0.46, 0.47,\n",
       "                          0.48, 0.49, 0.5 , 0.51, 0.52, 0.53, 0.54, 0.55, 0.56, 0.57, 0.58, 0.59,\n",
       "                          0.6 , 0.61, 0.62, 0.63, 0.64, 0.65, 0.66, 0.67, 0.68, 0.69, 0.7 , 0.71,\n",
       "                          0.72, 0.73, 0.74, 0.75, 0.76, 0.77, 0.78, 0.79, 0.8 , 0.81, 0.82, 0.83,\n",
       "                          0.84, 0.85, 0.86, 0.87, 0.88, 0.89, 0.9 , 0.91, 0.92, 0.93, 0.94, 0.95,\n",
       "                          0.96, 0.97, 0.98, 0.99, 1.  ]),\n",
       "              'y': array([1.        , 1.        , 0.94736842, 0.94736842, 0.94736842, 0.94736842,\n",
       "                          0.94736842, 0.94736842, 0.92857143, 0.92857143, 0.92857143, 0.92857143,\n",
       "                          0.92857143, 0.92857143, 0.92857143, 0.92857143, 0.92857143, 0.91836735,\n",
       "                          0.91836735, 0.91836735, 0.9       , 0.9       , 0.9       , 0.9       ,\n",
       "                          0.9       , 0.9       , 0.9       , 0.88888889, 0.88157895, 0.86585366,\n",
       "                          0.86585366, 0.85416667, 0.85416667, 0.85416667, 0.85416667, 0.84693878,\n",
       "                          0.84615385, 0.84615385, 0.8411215 , 0.82608696, 0.82608696, 0.81512605,\n",
       "                          0.79365079, 0.79259259, 0.79259259, 0.79259259, 0.78014184, 0.76351351,\n",
       "                          0.76315789, 0.76315789, 0.76282051, 0.74691358, 0.72781065, 0.70786517,\n",
       "                          0.69354839, 0.68783069, 0.65365854, 0.64285714, 0.60619469, 0.        ,\n",
       "                          0.        , 0.        , 0.        , 0.        , 0.        , 0.        ,\n",
       "                          0.        , 0.        , 0.        , 0.        , 0.        , 0.        ,\n",
       "                          0.        , 0.        , 0.        , 0.        , 0.        , 0.        ,\n",
       "                          0.        , 0.        , 0.        , 0.        , 0.        , 0.        ,\n",
       "                          0.        , 0.        , 0.        , 0.        , 0.        , 0.        ,\n",
       "                          0.        , 0.        , 0.        , 0.        , 0.        , 0.        ,\n",
       "                          0.        , 0.        , 0.        , 0.        , 0.        ])},\n",
       "             {'customdata': array([0.99999726, 0.99998963, 0.99998474, 0.9999789 , 0.99997723, 0.99996519,\n",
       "                                   0.99996364, 0.99995077, 0.99993372, 0.99989891, 0.99985445, 0.99983799,\n",
       "                                   0.99981266, 0.99973434, 0.99971384, 0.99961782, 0.99952102, 0.99934822,\n",
       "                                   0.99917823, 0.99912566, 0.99860817, 0.99842572, 0.99810529, 0.99783945,\n",
       "                                   0.99737477, 0.99571276, 0.99496716, 0.99431312, 0.99387336, 0.99150956,\n",
       "                                   0.98234713, 0.9785378 , 0.97779477, 0.97639811, 0.96551061, 0.95959747,\n",
       "                                   0.94771475, 0.94018376, 0.9259215 , 0.91237378, 0.86925542, 0.85118347,\n",
       "                                   0.80867481, 0.77293336, 0.58980322, 0.50498939, 0.46601483, 0.36700615,\n",
       "                                   0.19897848, 0.14395879, 0.09210147, 0.05546034, 0.        , 0.        ,\n",
       "                                   0.        , 0.        , 0.        , 0.        , 0.        , 0.        ,\n",
       "                                   0.        , 0.        , 0.        , 0.        , 0.        , 0.        ,\n",
       "                                   0.        , 0.        , 0.        , 0.        , 0.        , 0.        ,\n",
       "                                   0.        , 0.        , 0.        , 0.        , 0.        , 0.        ,\n",
       "                                   0.        , 0.        , 0.        , 0.        , 0.        , 0.        ,\n",
       "                                   0.        , 0.        , 0.        , 0.        , 0.        , 0.        ,\n",
       "                                   0.        , 0.        , 0.        , 0.        , 0.        , 0.        ,\n",
       "                                   0.        , 0.        , 0.        , 0.        , 0.        ]),\n",
       "              'hovertemplate': ('<b>class: %{text}</b><br>recal' ... 'customdata:.3f}<extra></extra>'),\n",
       "              'line': {'color': '#990099'},\n",
       "              'mode': 'lines',\n",
       "              'name': 'scratch (AP = 0.426)',\n",
       "              'text': array(['scratch', 'scratch', 'scratch', 'scratch', 'scratch', 'scratch',\n",
       "                             'scratch', 'scratch', 'scratch', 'scratch', 'scratch', 'scratch',\n",
       "                             'scratch', 'scratch', 'scratch', 'scratch', 'scratch', 'scratch',\n",
       "                             'scratch', 'scratch', 'scratch', 'scratch', 'scratch', 'scratch',\n",
       "                             'scratch', 'scratch', 'scratch', 'scratch', 'scratch', 'scratch',\n",
       "                             'scratch', 'scratch', 'scratch', 'scratch', 'scratch', 'scratch',\n",
       "                             'scratch', 'scratch', 'scratch', 'scratch', 'scratch', 'scratch',\n",
       "                             'scratch', 'scratch', 'scratch', 'scratch', 'scratch', 'scratch',\n",
       "                             'scratch', 'scratch', 'scratch', 'scratch', 'scratch', 'scratch',\n",
       "                             'scratch', 'scratch', 'scratch', 'scratch', 'scratch', 'scratch',\n",
       "                             'scratch', 'scratch', 'scratch', 'scratch', 'scratch', 'scratch',\n",
       "                             'scratch', 'scratch', 'scratch', 'scratch', 'scratch', 'scratch',\n",
       "                             'scratch', 'scratch', 'scratch', 'scratch', 'scratch', 'scratch',\n",
       "                             'scratch', 'scratch', 'scratch', 'scratch', 'scratch', 'scratch',\n",
       "                             'scratch', 'scratch', 'scratch', 'scratch', 'scratch', 'scratch',\n",
       "                             'scratch', 'scratch', 'scratch', 'scratch', 'scratch', 'scratch',\n",
       "                             'scratch', 'scratch', 'scratch', 'scratch', 'scratch'], dtype='<U7'),\n",
       "              'type': 'scatter',\n",
       "              'uid': '18a5fd7e-5cfe-4a85-9fb7-af7af0ed4b84',\n",
       "              'x': array([0.  , 0.01, 0.02, 0.03, 0.04, 0.05, 0.06, 0.07, 0.08, 0.09, 0.1 , 0.11,\n",
       "                          0.12, 0.13, 0.14, 0.15, 0.16, 0.17, 0.18, 0.19, 0.2 , 0.21, 0.22, 0.23,\n",
       "                          0.24, 0.25, 0.26, 0.27, 0.28, 0.29, 0.3 , 0.31, 0.32, 0.33, 0.34, 0.35,\n",
       "                          0.36, 0.37, 0.38, 0.39, 0.4 , 0.41, 0.42, 0.43, 0.44, 0.45, 0.46, 0.47,\n",
       "                          0.48, 0.49, 0.5 , 0.51, 0.52, 0.53, 0.54, 0.55, 0.56, 0.57, 0.58, 0.59,\n",
       "                          0.6 , 0.61, 0.62, 0.63, 0.64, 0.65, 0.66, 0.67, 0.68, 0.69, 0.7 , 0.71,\n",
       "                          0.72, 0.73, 0.74, 0.75, 0.76, 0.77, 0.78, 0.79, 0.8 , 0.81, 0.82, 0.83,\n",
       "                          0.84, 0.85, 0.86, 0.87, 0.88, 0.89, 0.9 , 0.91, 0.92, 0.93, 0.94, 0.95,\n",
       "                          0.96, 0.97, 0.98, 0.99, 1.  ]),\n",
       "              'y': array([1.        , 1.        , 1.        , 1.        , 1.        , 1.        ,\n",
       "                          0.95238095, 0.91891892, 0.91891892, 0.91891892, 0.91891892, 0.91891892,\n",
       "                          0.88095238, 0.87951807, 0.87951807, 0.87951807, 0.87951807, 0.87951807,\n",
       "                          0.87951807, 0.87951807, 0.87951807, 0.87951807, 0.87951807, 0.87951807,\n",
       "                          0.87058824, 0.86666667, 0.8627451 , 0.8627451 , 0.8627451 , 0.85714286,\n",
       "                          0.83783784, 0.83606557, 0.83606557, 0.83606557, 0.80916031, 0.8       ,\n",
       "                          0.79856115, 0.7755102 , 0.76129032, 0.7515528 , 0.74853801, 0.74853801,\n",
       "                          0.74585635, 0.74585635, 0.68341709, 0.66197183, 0.65740741, 0.63318777,\n",
       "                          0.55223881, 0.52797203, 0.50326797, 0.45772595, 0.        , 0.        ,\n",
       "                          0.        , 0.        , 0.        , 0.        , 0.        , 0.        ,\n",
       "                          0.        , 0.        , 0.        , 0.        , 0.        , 0.        ,\n",
       "                          0.        , 0.        , 0.        , 0.        , 0.        , 0.        ,\n",
       "                          0.        , 0.        , 0.        , 0.        , 0.        , 0.        ,\n",
       "                          0.        , 0.        , 0.        , 0.        , 0.        , 0.        ,\n",
       "                          0.        , 0.        , 0.        , 0.        , 0.        , 0.        ,\n",
       "                          0.        , 0.        , 0.        , 0.        , 0.        , 0.        ,\n",
       "                          0.        , 0.        , 0.        , 0.        , 0.        ])},\n",
       "             {'customdata': array([0.99992383, 0.99992383, 0.99924856, 0.99891782, 0.99891782, 0.99788231,\n",
       "                                   0.99787664, 0.99787664, 0.99663061, 0.99015653, 0.99015653, 0.96603882,\n",
       "                                   0.95898616, 0.88425201, 0.88425201, 0.79948837, 0.75507575, 0.75507575,\n",
       "                                   0.69835025, 0.63106072, 0.63106072, 0.3781364 , 0.3230665 , 0.32209995,\n",
       "                                   0.32209995, 0.28591323, 0.28012362, 0.28012362, 0.25259712, 0.20176128,\n",
       "                                   0.20176128, 0.19845931, 0.15638019, 0.14709254, 0.14709254, 0.09966321,\n",
       "                                   0.08707023, 0.08707023, 0.08400625, 0.06383226, 0.06383226, 0.        ,\n",
       "                                   0.        , 0.        , 0.        , 0.        , 0.        , 0.        ,\n",
       "                                   0.        , 0.        , 0.        , 0.        , 0.        , 0.        ,\n",
       "                                   0.        , 0.        , 0.        , 0.        , 0.        , 0.        ,\n",
       "                                   0.        , 0.        , 0.        , 0.        , 0.        , 0.        ,\n",
       "                                   0.        , 0.        , 0.        , 0.        , 0.        , 0.        ,\n",
       "                                   0.        , 0.        , 0.        , 0.        , 0.        , 0.        ,\n",
       "                                   0.        , 0.        , 0.        , 0.        , 0.        , 0.        ,\n",
       "                                   0.        , 0.        , 0.        , 0.        , 0.        , 0.        ,\n",
       "                                   0.        , 0.        , 0.        , 0.        , 0.        , 0.        ,\n",
       "                                   0.        , 0.        , 0.        , 0.        , 0.        ]),\n",
       "              'hovertemplate': ('<b>class: %{text}</b><br>recal' ... 'customdata:.3f}<extra></extra>'),\n",
       "              'line': {'color': '#0099C6'},\n",
       "              'mode': 'lines',\n",
       "              'name': 'crack (AP = 0.207)',\n",
       "              'text': array(['crack', 'crack', 'crack', 'crack', 'crack', 'crack', 'crack', 'crack',\n",
       "                             'crack', 'crack', 'crack', 'crack', 'crack', 'crack', 'crack', 'crack',\n",
       "                             'crack', 'crack', 'crack', 'crack', 'crack', 'crack', 'crack', 'crack',\n",
       "                             'crack', 'crack', 'crack', 'crack', 'crack', 'crack', 'crack', 'crack',\n",
       "                             'crack', 'crack', 'crack', 'crack', 'crack', 'crack', 'crack', 'crack',\n",
       "                             'crack', 'crack', 'crack', 'crack', 'crack', 'crack', 'crack', 'crack',\n",
       "                             'crack', 'crack', 'crack', 'crack', 'crack', 'crack', 'crack', 'crack',\n",
       "                             'crack', 'crack', 'crack', 'crack', 'crack', 'crack', 'crack', 'crack',\n",
       "                             'crack', 'crack', 'crack', 'crack', 'crack', 'crack', 'crack', 'crack',\n",
       "                             'crack', 'crack', 'crack', 'crack', 'crack', 'crack', 'crack', 'crack',\n",
       "                             'crack', 'crack', 'crack', 'crack', 'crack', 'crack', 'crack', 'crack',\n",
       "                             'crack', 'crack', 'crack', 'crack', 'crack', 'crack', 'crack', 'crack',\n",
       "                             'crack', 'crack', 'crack', 'crack', 'crack'], dtype='<U5'),\n",
       "              'type': 'scatter',\n",
       "              'uid': '0167e00b-1d6f-450a-8961-11557d5e32f5',\n",
       "              'x': array([0.  , 0.01, 0.02, 0.03, 0.04, 0.05, 0.06, 0.07, 0.08, 0.09, 0.1 , 0.11,\n",
       "                          0.12, 0.13, 0.14, 0.15, 0.16, 0.17, 0.18, 0.19, 0.2 , 0.21, 0.22, 0.23,\n",
       "                          0.24, 0.25, 0.26, 0.27, 0.28, 0.29, 0.3 , 0.31, 0.32, 0.33, 0.34, 0.35,\n",
       "                          0.36, 0.37, 0.38, 0.39, 0.4 , 0.41, 0.42, 0.43, 0.44, 0.45, 0.46, 0.47,\n",
       "                          0.48, 0.49, 0.5 , 0.51, 0.52, 0.53, 0.54, 0.55, 0.56, 0.57, 0.58, 0.59,\n",
       "                          0.6 , 0.61, 0.62, 0.63, 0.64, 0.65, 0.66, 0.67, 0.68, 0.69, 0.7 , 0.71,\n",
       "                          0.72, 0.73, 0.74, 0.75, 0.76, 0.77, 0.78, 0.79, 0.8 , 0.81, 0.82, 0.83,\n",
       "                          0.84, 0.85, 0.86, 0.87, 0.88, 0.89, 0.9 , 0.91, 0.92, 0.93, 0.94, 0.95,\n",
       "                          0.96, 0.97, 0.98, 0.99, 1.  ]),\n",
       "              'y': array([1.        , 1.        , 0.75      , 0.75      , 0.75      , 0.75      ,\n",
       "                          0.75      , 0.75      , 0.75      , 0.58333333, 0.58333333, 0.45454545,\n",
       "                          0.45454545, 0.45454545, 0.45454545, 0.4516129 , 0.4516129 , 0.4516129 ,\n",
       "                          0.4516129 , 0.4516129 , 0.4516129 , 0.42222222, 0.42222222, 0.42222222,\n",
       "                          0.42222222, 0.42222222, 0.42222222, 0.42222222, 0.40816327, 0.40350877,\n",
       "                          0.40350877, 0.40350877, 0.40350877, 0.4       , 0.4       , 0.37878788,\n",
       "                          0.36986301, 0.36986301, 0.36986301, 0.35      , 0.35      , 0.        ,\n",
       "                          0.        , 0.        , 0.        , 0.        , 0.        , 0.        ,\n",
       "                          0.        , 0.        , 0.        , 0.        , 0.        , 0.        ,\n",
       "                          0.        , 0.        , 0.        , 0.        , 0.        , 0.        ,\n",
       "                          0.        , 0.        , 0.        , 0.        , 0.        , 0.        ,\n",
       "                          0.        , 0.        , 0.        , 0.        , 0.        , 0.        ,\n",
       "                          0.        , 0.        , 0.        , 0.        , 0.        , 0.        ,\n",
       "                          0.        , 0.        , 0.        , 0.        , 0.        , 0.        ,\n",
       "                          0.        , 0.        , 0.        , 0.        , 0.        , 0.        ,\n",
       "                          0.        , 0.        , 0.        , 0.        , 0.        , 0.        ,\n",
       "                          0.        , 0.        , 0.        , 0.        , 0.        ])}],\n",
       "    'layout': {'margin': {'b': 0, 'l': 0, 'r': 0, 't': 30},\n",
       "               'shapes': [{'line': {'dash': 'dash'}, 'type': 'line', 'x0': 0, 'x1': 1, 'y0': 1, 'y1': 0}],\n",
       "               'template': '...',\n",
       "               'xaxis': {'constrain': 'domain', 'range': [0, 1], 'title': {'text': 'Revocação'}},\n",
       "               'yaxis': {'constrain': 'domain',\n",
       "                         'range': [0, 1],\n",
       "                         'scaleanchor': 'x',\n",
       "                         'scaleratio': 1,\n",
       "                         'title': {'text': 'Precisão'}}}\n",
       "})"
      ]
     },
     "metadata": {},
     "output_type": "display_data"
    }
   ],
   "source": [
    "plot = results.plot_pr_curves(classes=[\"crack\", \"tire flat\", \"glass shatter\", \"scratch\", \"dent\", \"lamp broken\"], iou_thresh=0.5)\n",
    "plot.update_layout(xaxis_title = \"Revocação\",yaxis_title = \"Precisão\")\n",
    "plot.show()"
   ]
  },
  {
   "cell_type": "markdown",
   "id": "d3860e9e-a1e8-45c4-bdf9-7123ce068b04",
   "metadata": {},
   "source": [
    "## Resultados sem limitar o score de confiança"
   ]
  },
  {
   "cell_type": "code",
   "execution_count": 34,
   "id": "af331d60-3591-4887-bfd9-1e1233f98fe8",
   "metadata": {},
   "outputs": [
    {
     "name": "stdout",
     "output_type": "stream",
     "text": [
      "Evaluating detections...\n",
      " 100% |█████████████████| 374/374 [12.8s elapsed, 0s remaining, 28.8 samples/s]      \n",
      "Performing IoU sweep...\n",
      " 100% |█████████████████| 374/374 [10.6s elapsed, 0s remaining, 38.2 samples/s]      \n"
     ]
    },
    {
     "data": {
      "text/plain": []
     },
     "metadata": {},
     "output_type": "display_data"
    },
    {
     "data": {
      "text/plain": []
     },
     "metadata": {},
     "output_type": "display_data"
    },
    {
     "data": {
      "application/vnd.jupyter.widget-view+json": {
       "model_id": "7512d8f69aeb43c5b16c88caa37a88bc",
       "version_major": 2,
       "version_minor": 0
      },
      "text/plain": [
       "FigureWidget({\n",
       "    'data': [{'mode': 'markers',\n",
       "              'opacity': 0.1,\n",
       "              'type': 'scatter',\n",
       "              'uid': 'b932245d-4280-4bfc-91f5-f3e83d5b9ba6',\n",
       "              'x': array([0, 1, 2, 3, 4, 5, 6, 0, 1, 2, 3, 4, 5, 6, 0, 1, 2, 3, 4, 5, 6, 0, 1, 2,\n",
       "                          3, 4, 5, 6, 0, 1, 2, 3, 4, 5, 6, 0, 1, 2, 3, 4, 5, 6, 0, 1, 2, 3, 4, 5,\n",
       "                          6]),\n",
       "              'y': array([0, 0, 0, 0, 0, 0, 0, 1, 1, 1, 1, 1, 1, 1, 2, 2, 2, 2, 2, 2, 2, 3, 3, 3,\n",
       "                          3, 3, 3, 3, 4, 4, 4, 4, 4, 4, 4, 5, 5, 5, 5, 5, 5, 5, 6, 6, 6, 6, 6, 6,\n",
       "                          6])},\n",
       "             {'colorscale': [[0.0, 'rgb(255,245,235)'], [0.125,\n",
       "                             'rgb(254,230,206)'], [0.25, 'rgb(253,208,162)'],\n",
       "                             [0.375, 'rgb(253,174,107)'], [0.5, 'rgb(253,141,60)'],\n",
       "                             [0.625, 'rgb(241,105,19)'], [0.75, 'rgb(217,72,1)'],\n",
       "                             [0.875, 'rgb(166,54,3)'], [1.0, 'rgb(127,39,4)']],\n",
       "              'hoverinfo': 'skip',\n",
       "              'showscale': False,\n",
       "              'type': 'heatmap',\n",
       "              'uid': 'e9ac2e10-c255-4561-a968-08e03be15a93',\n",
       "              'z': array([[ 61,   5,  13, 184,  87,  41,   0],\n",
       "                          [  0,   0,   0,   1,   0,  47,  21],\n",
       "                          [  0,   0,   0,  10, 132,   0,  94],\n",
       "                          [  0,   0,   0, 154,   8,   2, 143],\n",
       "                          [  0,   0,  66,   0,   0,   0,   5],\n",
       "                          [  0,  27,   0,   0,   0,   0,   5],\n",
       "                          [ 28,   0,   0,   0,   1,   0,  41]]),\n",
       "              'zmax': 184,\n",
       "              'zmin': 0},\n",
       "             {'colorbar': {'len': 1, 'lenmode': 'fraction'},\n",
       "              'colorscale': [[0.0, 'rgb(255,245,235)'], [0.125,\n",
       "                             'rgb(254,230,206)'], [0.25, 'rgb(253,208,162)'],\n",
       "                             [0.375, 'rgb(253,174,107)'], [0.5, 'rgb(253,141,60)'],\n",
       "                             [0.625, 'rgb(241,105,19)'], [0.75, 'rgb(217,72,1)'],\n",
       "                             [0.875, 'rgb(166,54,3)'], [1.0, 'rgb(127,39,4)']],\n",
       "              'hovertemplate': '<b>count: %{z}</b><br>truth: %{y}<br>predicted: %{x}<extra></extra>',\n",
       "              'opacity': 0.25,\n",
       "              'type': 'heatmap',\n",
       "              'uid': '09fdb144-3a1d-435e-98c2-c508d53e157c',\n",
       "              'z': array([[ 61,   5,  13, 184,  87,  41,   0],\n",
       "                          [  0,   0,   0,   1,   0,  47,  21],\n",
       "                          [  0,   0,   0,  10, 132,   0,  94],\n",
       "                          [  0,   0,   0, 154,   8,   2, 143],\n",
       "                          [  0,   0,  66,   0,   0,   0,   5],\n",
       "                          [  0,  27,   0,   0,   0,   0,   5],\n",
       "                          [ 28,   0,   0,   0,   1,   0,  41]]),\n",
       "              'zmax': 184,\n",
       "              'zmin': 0}],\n",
       "    'layout': {'clickmode': 'event',\n",
       "               'margin': {'b': 0, 'l': 0, 'r': 0, 't': 30},\n",
       "               'template': '...',\n",
       "               'title': {},\n",
       "               'xaxis': {'constrain': 'domain',\n",
       "                         'range': [-0.5, 6.5],\n",
       "                         'tickmode': 'array',\n",
       "                         'ticktext': [crack, tire flat, glass shatter, scratch,\n",
       "                                      dent, lamp broken, (none)],\n",
       "                         'tickvals': array([0, 1, 2, 3, 4, 5, 6])},\n",
       "               'yaxis': {'constrain': 'domain',\n",
       "                         'range': [-0.5, 6.5],\n",
       "                         'scaleanchor': 'x',\n",
       "                         'scaleratio': 1,\n",
       "                         'tickmode': 'array',\n",
       "                         'ticktext': array(['(none)', 'lamp broken', 'dent', 'scratch', 'glass shatter',\n",
       "                                            'tire flat', 'crack'], dtype=object),\n",
       "                         'tickvals': array([0, 1, 2, 3, 4, 5, 6])}}\n",
       "})"
      ]
     },
     "metadata": {},
     "output_type": "display_data"
    }
   ],
   "source": [
    "#matriz de confusão considerando detecções de qualquer confidence score\n",
    "results_for_confusion = dataset.evaluate_detections(\n",
    "    \"predictions\",\n",
    "    gt_field=\"ground_truth_segmentations\",\n",
    "    method=\"coco\",\n",
    "    compute_mAP=True,\n",
    "    use_masks=True,\n",
    "    classwise=False, # com False, objetos preditos podem ser combinados com objetos verdadeiros de diferentes classes,\n",
    "    eval_key=\"eval\" # para criar e popular campos eval_tp, eval_fp e eval_fn\n",
    ")\n",
    "plot = results_for_confusion.plot_confusion_matrix(classes=[\"crack\", \"tire flat\", \"glass shatter\", \"scratch\", \"dent\", \"lamp broken\"])\n",
    "plot.show()"
   ]
  },
  {
   "cell_type": "code",
   "execution_count": 35,
   "id": "994bfd74-d1ca-4600-ac08-6732c809cfdf",
   "metadata": {},
   "outputs": [
    {
     "name": "stdout",
     "output_type": "stream",
     "text": [
      "               precision    recall  f1-score   support\n",
      "\n",
      "        crack       0.31      0.40      0.35        70\n",
      "         dent       0.60      0.58      0.59       236\n",
      "glass shatter       0.84      0.93      0.88        71\n",
      "  lamp broken       0.52      0.68      0.59        69\n",
      "      scratch       0.45      0.51      0.48       307\n",
      "    tire flat       0.84      0.84      0.84        32\n",
      "\n",
      "    micro avg       0.53      0.59      0.56       785\n",
      "    macro avg       0.59      0.66      0.62       785\n",
      " weighted avg       0.54      0.59      0.56       785\n",
      "\n"
     ]
    }
   ],
   "source": [
    "#report considerando detecções de qualquer confidence score\n",
    "results.print_report()"
   ]
  },
  {
   "cell_type": "code",
   "execution_count": 36,
   "id": "43c94480-e006-45c6-a03a-58790afa9ba0",
   "metadata": {},
   "outputs": [
    {
     "data": {
      "text/plain": [
       "['ytrue',\n",
       " 'ypred',\n",
       " 'confs',\n",
       " 'weights',\n",
       " 'ytrue_ids',\n",
       " 'ypred_ids',\n",
       " 'classes',\n",
       " 'missing',\n",
       " 'ious',\n",
       " 'precision',\n",
       " 'recall',\n",
       " 'iou_threshs',\n",
       " 'thresholds']"
      ]
     },
     "execution_count": 36,
     "metadata": {},
     "output_type": "execute_result"
    }
   ],
   "source": [
    "# lista atributos do resultado\n",
    "results.custom_attributes()"
   ]
  },
  {
   "cell_type": "code",
   "execution_count": 37,
   "id": "3438ce2b-3c3a-4136-bf48-2918c59767c9",
   "metadata": {},
   "outputs": [
    {
     "data": {
      "text/html": [
       "<div>\n",
       "<style scoped>\n",
       "    .dataframe tbody tr th:only-of-type {\n",
       "        vertical-align: middle;\n",
       "    }\n",
       "\n",
       "    .dataframe tbody tr th {\n",
       "        vertical-align: top;\n",
       "    }\n",
       "\n",
       "    .dataframe thead th {\n",
       "        text-align: right;\n",
       "    }\n",
       "</style>\n",
       "<table border=\"1\" class=\"dataframe\">\n",
       "  <thead>\n",
       "    <tr style=\"text-align: right;\">\n",
       "      <th></th>\n",
       "      <th>true</th>\n",
       "      <th>pred</th>\n",
       "      <th>conf</th>\n",
       "    </tr>\n",
       "  </thead>\n",
       "  <tbody>\n",
       "    <tr>\n",
       "      <th>0</th>\n",
       "      <td>tire flat</td>\n",
       "      <td>tire flat</td>\n",
       "      <td>0.9999</td>\n",
       "    </tr>\n",
       "    <tr>\n",
       "      <th>1</th>\n",
       "      <td>tire flat</td>\n",
       "      <td>(none)</td>\n",
       "      <td>None</td>\n",
       "    </tr>\n",
       "    <tr>\n",
       "      <th>2</th>\n",
       "      <td>scratch</td>\n",
       "      <td>scratch</td>\n",
       "      <td>0.789197</td>\n",
       "    </tr>\n",
       "    <tr>\n",
       "      <th>3</th>\n",
       "      <td>(none)</td>\n",
       "      <td>scratch</td>\n",
       "      <td>0.182533</td>\n",
       "    </tr>\n",
       "    <tr>\n",
       "      <th>4</th>\n",
       "      <td>dent</td>\n",
       "      <td>dent</td>\n",
       "      <td>0.778704</td>\n",
       "    </tr>\n",
       "    <tr>\n",
       "      <th>...</th>\n",
       "      <td>...</td>\n",
       "      <td>...</td>\n",
       "      <td>...</td>\n",
       "    </tr>\n",
       "    <tr>\n",
       "      <th>1185</th>\n",
       "      <td>crack</td>\n",
       "      <td>(none)</td>\n",
       "      <td>None</td>\n",
       "    </tr>\n",
       "    <tr>\n",
       "      <th>1186</th>\n",
       "      <td>crack</td>\n",
       "      <td>(none)</td>\n",
       "      <td>None</td>\n",
       "    </tr>\n",
       "    <tr>\n",
       "      <th>1187</th>\n",
       "      <td>(none)</td>\n",
       "      <td>tire flat</td>\n",
       "      <td>0.987871</td>\n",
       "    </tr>\n",
       "    <tr>\n",
       "      <th>1188</th>\n",
       "      <td>(none)</td>\n",
       "      <td>scratch</td>\n",
       "      <td>0.464329</td>\n",
       "    </tr>\n",
       "    <tr>\n",
       "      <th>1189</th>\n",
       "      <td>(none)</td>\n",
       "      <td>scratch</td>\n",
       "      <td>0.131755</td>\n",
       "    </tr>\n",
       "  </tbody>\n",
       "</table>\n",
       "<p>1190 rows × 3 columns</p>\n",
       "</div>"
      ],
      "text/plain": [
       "           true       pred      conf\n",
       "0     tire flat  tire flat    0.9999\n",
       "1     tire flat     (none)      None\n",
       "2       scratch    scratch  0.789197\n",
       "3        (none)    scratch  0.182533\n",
       "4          dent       dent  0.778704\n",
       "...         ...        ...       ...\n",
       "1185      crack     (none)      None\n",
       "1186      crack     (none)      None\n",
       "1187     (none)  tire flat  0.987871\n",
       "1188     (none)    scratch  0.464329\n",
       "1189     (none)    scratch  0.131755\n",
       "\n",
       "[1190 rows x 3 columns]"
      ]
     },
     "execution_count": 37,
     "metadata": {},
     "output_type": "execute_result"
    }
   ],
   "source": [
    "y_true = results.ytrue\n",
    "y_pred = results.ypred\n",
    "classes = results.classes\n",
    "confs = results.confs\n",
    "\n",
    "data = pd.DataFrame({'true':y_true, 'pred': y_pred, 'conf': confs})\n",
    "data"
   ]
  },
  {
   "cell_type": "code",
   "execution_count": 38,
   "id": "a0c52239-df62-4ecd-aba4-18e65bb57ffc",
   "metadata": {},
   "outputs": [
    {
     "name": "stdout",
     "output_type": "stream",
     "text": [
      "               precision    recall  f1-score   support\n",
      "\n",
      "       (none)      0.000     0.000     0.000       405\n",
      "        crack      0.315     0.400     0.352        70\n",
      "         dent      0.601     0.581     0.591       236\n",
      "glass shatter      0.835     0.930     0.880        71\n",
      "  lamp broken      0.522     0.681     0.591        69\n",
      "      scratch      0.450     0.511     0.479       307\n",
      "    tire flat      0.844     0.844     0.844        32\n",
      "\n",
      "     accuracy                          0.388      1190\n",
      "    macro avg      0.510     0.564     0.534      1190\n",
      " weighted avg      0.357     0.388     0.371      1190\n",
      "\n"
     ]
    }
   ],
   "source": [
    "# Fazendo o report com o SKLearn os resultados das classes são os mesmos...\n",
    "# Mas ele inclui a classe \"(none)\" no cálculo das médias, que ficam com valores errados\n",
    "classification_report = skm.classification_report(y_true, y_pred,digits=3, output_dict=False)\n",
    "print(classification_report)"
   ]
  },
  {
   "cell_type": "code",
   "execution_count": 39,
   "id": "039a19ca-852b-4ac5-ade4-4c8dd651c516",
   "metadata": {},
   "outputs": [],
   "source": [
    "# Função para obter o valor da precisão média correto, sem incluir classe 'none' no cálculo\n",
    "def metric_macro_avg(y_true, y_pred, metric):\n",
    "    classification_report_dict = skm.classification_report(y_true, y_pred,digits=3, output_dict=True)\n",
    "    classes=[\"crack\", \"tire flat\", \"glass shatter\", \"scratch\", \"dent\", \"lamp broken\"]\n",
    "    metric_sum = 0.0\n",
    "    for category in classes:\n",
    "        metric_sum = metric_sum + classification_report_dict[category][metric]\n",
    "        metric_macro_avg = metric_sum / 6\n",
    "    return metric_macro_avg"
   ]
  },
  {
   "cell_type": "code",
   "execution_count": 40,
   "id": "0ffb7f60-f6e0-40ab-9720-b79dc45996f1",
   "metadata": {},
   "outputs": [
    {
     "name": "stdout",
     "output_type": "stream",
     "text": [
      "Precision macro avg:  0.5944593213794586\n",
      "Recall macro avg:  0.6577326685201094\n",
      "F1-Score macro avg:  0.6227203340632951\n"
     ]
    }
   ],
   "source": [
    "print('Precision macro avg: ', metric_macro_avg(y_true, y_pred, 'precision'))\n",
    "print('Recall macro avg: ', metric_macro_avg(y_true, y_pred, 'recall'))\n",
    "print('F1-Score macro avg: ', metric_macro_avg(y_true, y_pred, 'f1-score'))"
   ]
  },
  {
   "cell_type": "markdown",
   "id": "88cc5ab8-ea85-43ef-8418-8e4a274d1bcb",
   "metadata": {},
   "source": [
    "## Distribuição do score de confiança"
   ]
  },
  {
   "cell_type": "code",
   "execution_count": 41,
   "id": "bcd48eba-1823-4ced-bb24-71c131da355c",
   "metadata": {},
   "outputs": [
    {
     "data": {
      "text/plain": [
       "array([0.9999004602432251, None, 0.7891969680786133, ...,\n",
       "       0.9878705143928528, 0.46432918310165405, 0.13175451755523682],\n",
       "      dtype=object)"
      ]
     },
     "execution_count": 41,
     "metadata": {},
     "output_type": "execute_result"
    }
   ],
   "source": [
    "confidence_scores = results.confs\n",
    "confidence_scores"
   ]
  },
  {
   "cell_type": "code",
   "execution_count": 42,
   "id": "82c0b092-2dc1-41c5-9d44-b33e166b64b8",
   "metadata": {},
   "outputs": [
    {
     "data": {
      "text/plain": [
       "1190"
      ]
     },
     "execution_count": 42,
     "metadata": {},
     "output_type": "execute_result"
    }
   ],
   "source": [
    "len(confidence_scores)"
   ]
  },
  {
   "cell_type": "code",
   "execution_count": 43,
   "id": "43c2b2bf-1a57-44a0-b6a2-a5c303341d59",
   "metadata": {},
   "outputs": [
    {
     "name": "stdout",
     "output_type": "stream",
     "text": [
      "Instânias preditas (considerando IoU=0.50): 867\n"
     ]
    }
   ],
   "source": [
    "# Remove os scores com valor None\n",
    "# (os elementos com valor None são referentes a objetos que existiam no ground truth mas não foram detectados)\n",
    "confidence_scores = confidence_scores[confidence_scores != None]\n",
    "print('Instânias preditas (considerando IoU=0.50): ' + str(len(confidence_scores)))"
   ]
  },
  {
   "cell_type": "code",
   "execution_count": 44,
   "id": "acfc4e55-e6a8-4831-8b20-00cd9ba53ccc",
   "metadata": {},
   "outputs": [
    {
     "data": {
      "text/html": [
       "<div>\n",
       "<style scoped>\n",
       "    .dataframe tbody tr th:only-of-type {\n",
       "        vertical-align: middle;\n",
       "    }\n",
       "\n",
       "    .dataframe tbody tr th {\n",
       "        vertical-align: top;\n",
       "    }\n",
       "\n",
       "    .dataframe thead th {\n",
       "        text-align: right;\n",
       "    }\n",
       "</style>\n",
       "<table border=\"1\" class=\"dataframe\">\n",
       "  <thead>\n",
       "    <tr style=\"text-align: right;\">\n",
       "      <th></th>\n",
       "      <th>score de confiança</th>\n",
       "    </tr>\n",
       "  </thead>\n",
       "  <tbody>\n",
       "    <tr>\n",
       "      <th>0</th>\n",
       "      <td>0.9999</td>\n",
       "    </tr>\n",
       "    <tr>\n",
       "      <th>1</th>\n",
       "      <td>0.789197</td>\n",
       "    </tr>\n",
       "    <tr>\n",
       "      <th>2</th>\n",
       "      <td>0.182533</td>\n",
       "    </tr>\n",
       "    <tr>\n",
       "      <th>3</th>\n",
       "      <td>0.778704</td>\n",
       "    </tr>\n",
       "    <tr>\n",
       "      <th>4</th>\n",
       "      <td>0.994787</td>\n",
       "    </tr>\n",
       "    <tr>\n",
       "      <th>...</th>\n",
       "      <td>...</td>\n",
       "    </tr>\n",
       "    <tr>\n",
       "      <th>862</th>\n",
       "      <td>0.999991</td>\n",
       "    </tr>\n",
       "    <tr>\n",
       "      <th>863</th>\n",
       "      <td>0.983858</td>\n",
       "    </tr>\n",
       "    <tr>\n",
       "      <th>864</th>\n",
       "      <td>0.987871</td>\n",
       "    </tr>\n",
       "    <tr>\n",
       "      <th>865</th>\n",
       "      <td>0.464329</td>\n",
       "    </tr>\n",
       "    <tr>\n",
       "      <th>866</th>\n",
       "      <td>0.131755</td>\n",
       "    </tr>\n",
       "  </tbody>\n",
       "</table>\n",
       "<p>867 rows × 1 columns</p>\n",
       "</div>"
      ],
      "text/plain": [
       "    score de confiança\n",
       "0               0.9999\n",
       "1             0.789197\n",
       "2             0.182533\n",
       "3             0.778704\n",
       "4             0.994787\n",
       "..                 ...\n",
       "862           0.999991\n",
       "863           0.983858\n",
       "864           0.987871\n",
       "865           0.464329\n",
       "866           0.131755\n",
       "\n",
       "[867 rows x 1 columns]"
      ]
     },
     "execution_count": 44,
     "metadata": {},
     "output_type": "execute_result"
    }
   ],
   "source": [
    "scores_df = pd.DataFrame({'score de confiança': confidence_scores})\n",
    "scores_df"
   ]
  },
  {
   "cell_type": "code",
   "execution_count": 45,
   "id": "ae973198-81cf-40e5-966d-a1114c500f94",
   "metadata": {},
   "outputs": [
    {
     "data": {
      "text/html": [
       "\n",
       "<style>\n",
       "  #altair-viz-380ff002e37b4fe4868b3fed759900f9.vega-embed {\n",
       "    width: 100%;\n",
       "    display: flex;\n",
       "  }\n",
       "\n",
       "  #altair-viz-380ff002e37b4fe4868b3fed759900f9.vega-embed details,\n",
       "  #altair-viz-380ff002e37b4fe4868b3fed759900f9.vega-embed details summary {\n",
       "    position: relative;\n",
       "  }\n",
       "</style>\n",
       "<div id=\"altair-viz-380ff002e37b4fe4868b3fed759900f9\"></div>\n",
       "<script type=\"text/javascript\">\n",
       "  var VEGA_DEBUG = (typeof VEGA_DEBUG == \"undefined\") ? {} : VEGA_DEBUG;\n",
       "  (function(spec, embedOpt){\n",
       "    let outputDiv = document.currentScript.previousElementSibling;\n",
       "    if (outputDiv.id !== \"altair-viz-380ff002e37b4fe4868b3fed759900f9\") {\n",
       "      outputDiv = document.getElementById(\"altair-viz-380ff002e37b4fe4868b3fed759900f9\");\n",
       "    }\n",
       "    const paths = {\n",
       "      \"vega\": \"https://cdn.jsdelivr.net/npm/vega@5?noext\",\n",
       "      \"vega-lib\": \"https://cdn.jsdelivr.net/npm/vega-lib?noext\",\n",
       "      \"vega-lite\": \"https://cdn.jsdelivr.net/npm/vega-lite@5.16.3?noext\",\n",
       "      \"vega-embed\": \"https://cdn.jsdelivr.net/npm/vega-embed@6?noext\",\n",
       "    };\n",
       "\n",
       "    function maybeLoadScript(lib, version) {\n",
       "      var key = `${lib.replace(\"-\", \"\")}_version`;\n",
       "      return (VEGA_DEBUG[key] == version) ?\n",
       "        Promise.resolve(paths[lib]) :\n",
       "        new Promise(function(resolve, reject) {\n",
       "          var s = document.createElement('script');\n",
       "          document.getElementsByTagName(\"head\")[0].appendChild(s);\n",
       "          s.async = true;\n",
       "          s.onload = () => {\n",
       "            VEGA_DEBUG[key] = version;\n",
       "            return resolve(paths[lib]);\n",
       "          };\n",
       "          s.onerror = () => reject(`Error loading script: ${paths[lib]}`);\n",
       "          s.src = paths[lib];\n",
       "        });\n",
       "    }\n",
       "\n",
       "    function showError(err) {\n",
       "      outputDiv.innerHTML = `<div class=\"error\" style=\"color:red;\">${err}</div>`;\n",
       "      throw err;\n",
       "    }\n",
       "\n",
       "    function displayChart(vegaEmbed) {\n",
       "      vegaEmbed(outputDiv, spec, embedOpt)\n",
       "        .catch(err => showError(`Javascript Error: ${err.message}<br>This usually means there's a typo in your chart specification. See the javascript console for the full traceback.`));\n",
       "    }\n",
       "\n",
       "    if(typeof define === \"function\" && define.amd) {\n",
       "      requirejs.config({paths});\n",
       "      require([\"vega-embed\"], displayChart, err => showError(`Error loading script: ${err.message}`));\n",
       "    } else {\n",
       "      maybeLoadScript(\"vega\", \"5\")\n",
       "        .then(() => maybeLoadScript(\"vega-lite\", \"5.16.3\"))\n",
       "        .then(() => maybeLoadScript(\"vega-embed\", \"6\"))\n",
       "        .catch(showError)\n",
       "        .then(() => displayChart(vegaEmbed));\n",
       "    }\n",
       "  })({\"config\": {\"view\": {\"continuousWidth\": 300, \"continuousHeight\": 300}}, \"data\": {\"name\": \"data-84da799eeeac6c8fa1b3f8173da64928\"}, \"mark\": {\"type\": \"bar\"}, \"encoding\": {\"x\": {\"bin\": {\"maxbins\": 20}, \"field\": \"score de confian\\u00e7a\", \"title\": \"Score de confian\\u00e7a\", \"type\": \"quantitative\"}, \"y\": {\"aggregate\": \"count\", \"title\": \"Quantidade de inst\\u00e2ncias\", \"type\": \"quantitative\"}}, \"$schema\": \"https://vega.github.io/schema/vega-lite/v5.16.3.json\", \"datasets\": {\"data-84da799eeeac6c8fa1b3f8173da64928\": [{\"score de confian\\u00e7a\": 0.9999004602432251}, {\"score de confian\\u00e7a\": 0.7891969680786133}, {\"score de confian\\u00e7a\": 0.18253332376480103}, {\"score de confian\\u00e7a\": 0.7787044048309326}, {\"score de confian\\u00e7a\": 0.9947869777679443}, {\"score de confian\\u00e7a\": 0.8006290197372437}, {\"score de confian\\u00e7a\": 0.49751996994018555}, {\"score de confian\\u00e7a\": 0.06568387150764465}, {\"score de confian\\u00e7a\": 0.976836085319519}, {\"score de confian\\u00e7a\": 0.7135902047157288}, {\"score de confian\\u00e7a\": 0.24298381805419922}, {\"score de confian\\u00e7a\": 0.9965994954109192}, {\"score de confian\\u00e7a\": 0.9999814033508301}, {\"score de confian\\u00e7a\": 0.9999293088912964}, {\"score de confian\\u00e7a\": 0.9991959929466248}, {\"score de confian\\u00e7a\": 0.16344982385635376}, {\"score de confian\\u00e7a\": 0.08402096480131149}, {\"score de confian\\u00e7a\": 0.6310607194900513}, {\"score de confian\\u00e7a\": 0.176881805062294}, {\"score de confian\\u00e7a\": 0.15671874582767487}, {\"score de confian\\u00e7a\": 0.999921441078186}, {\"score de confian\\u00e7a\": 0.9957584738731384}, {\"score de confian\\u00e7a\": 0.9998549222946167}, {\"score de confian\\u00e7a\": 0.9997994303703308}, {\"score de confian\\u00e7a\": 0.36591610312461853}, {\"score de confian\\u00e7a\": 0.18914705514907837}, {\"score de confian\\u00e7a\": 0.9978823065757751}, {\"score de confian\\u00e7a\": 0.061519552022218704}, {\"score de confian\\u00e7a\": 0.23540028929710388}, {\"score de confian\\u00e7a\": 0.9999585151672363}, {\"score de confian\\u00e7a\": 0.7976623177528381}, {\"score de confian\\u00e7a\": 0.05927135422825813}, {\"score de confian\\u00e7a\": 0.9991415739059448}, {\"score de confian\\u00e7a\": 0.9999709129333496}, {\"score de confian\\u00e7a\": 0.9937927722930908}, {\"score de confian\\u00e7a\": 0.24775587022304535}, {\"score de confian\\u00e7a\": 0.06823907047510147}, {\"score de confian\\u00e7a\": 0.26163598895072937}, {\"score de confian\\u00e7a\": 0.09436291456222534}, {\"score de confian\\u00e7a\": 0.9966306090354919}, {\"score de confian\\u00e7a\": 0.22887061536312103}, {\"score de confian\\u00e7a\": 0.1992962658405304}, {\"score de confian\\u00e7a\": 0.05168619379401207}, {\"score de confian\\u00e7a\": 0.05161497741937637}, {\"score de confian\\u00e7a\": 0.9999712705612183}, {\"score de confian\\u00e7a\": 0.9992498755455017}, {\"score de confian\\u00e7a\": 0.9998517036437988}, {\"score de confian\\u00e7a\": 0.9879823923110962}, {\"score de confian\\u00e7a\": 0.9951124787330627}, {\"score de confian\\u00e7a\": 0.05559558793902397}, {\"score de confian\\u00e7a\": 0.9188786745071411}, {\"score de confian\\u00e7a\": 0.6051208972930908}, {\"score de confian\\u00e7a\": 0.1577908992767334}, {\"score de confian\\u00e7a\": 0.11277276277542114}, {\"score de confian\\u00e7a\": 0.9971942901611328}, {\"score de confian\\u00e7a\": 0.9565373659133911}, {\"score de confian\\u00e7a\": 0.2564123570919037}, {\"score de confian\\u00e7a\": 0.999843955039978}, {\"score de confian\\u00e7a\": 0.9996756315231323}, {\"score de confian\\u00e7a\": 0.06588879972696304}, {\"score de confian\\u00e7a\": 0.9936341047286987}, {\"score de confian\\u00e7a\": 0.20830224454402924}, {\"score de confian\\u00e7a\": 0.14657583832740784}, {\"score de confian\\u00e7a\": 0.09868229925632477}, {\"score de confian\\u00e7a\": 0.08051523566246033}, {\"score de confian\\u00e7a\": 0.9595974683761597}, {\"score de confian\\u00e7a\": 0.9967257976531982}, {\"score de confian\\u00e7a\": 0.07581227272748947}, {\"score de confian\\u00e7a\": 0.055525194853544235}, {\"score de confian\\u00e7a\": 0.9999665021896362}, {\"score de confian\\u00e7a\": 0.9998223185539246}, {\"score de confian\\u00e7a\": 0.99996018409729}, {\"score de confian\\u00e7a\": 0.9998893737792969}, {\"score de confian\\u00e7a\": 0.9989511966705322}, {\"score de confian\\u00e7a\": 0.08733681589365005}, {\"score de confian\\u00e7a\": 0.05666807293891907}, {\"score de confian\\u00e7a\": 0.9998855590820312}, {\"score de confian\\u00e7a\": 0.07533299922943115}, {\"score de confian\\u00e7a\": 0.9987659454345703}, {\"score de confian\\u00e7a\": 0.9997591376304626}, {\"score de confian\\u00e7a\": 0.13982827961444855}, {\"score de confian\\u00e7a\": 0.28591322898864746}, {\"score de confian\\u00e7a\": 0.9179486632347107}, {\"score de confian\\u00e7a\": 0.9904086589813232}, {\"score de confian\\u00e7a\": 0.9676117897033691}, {\"score de confian\\u00e7a\": 0.6798657774925232}, {\"score de confian\\u00e7a\": 0.29024186730384827}, {\"score de confian\\u00e7a\": 0.12218514829874039}, {\"score de confian\\u00e7a\": 0.9999881982803345}, {\"score de confian\\u00e7a\": 0.9985761642456055}, {\"score de confian\\u00e7a\": 0.26493164896965027}, {\"score de confian\\u00e7a\": 0.9999969005584717}, {\"score de confian\\u00e7a\": 0.9571885466575623}, {\"score de confian\\u00e7a\": 0.9999303817749023}, {\"score de confian\\u00e7a\": 0.9999926090240479}, {\"score de confian\\u00e7a\": 0.9999475479125977}, {\"score de confian\\u00e7a\": 0.9973794221878052}, {\"score de confian\\u00e7a\": 0.9999772310256958}, {\"score de confian\\u00e7a\": 0.9196170568466187}, {\"score de confian\\u00e7a\": 0.9999847412109375}, {\"score de confian\\u00e7a\": 0.8692554235458374}, {\"score de confian\\u00e7a\": 0.8623573780059814}, {\"score de confian\\u00e7a\": 0.9988904595375061}, {\"score de confian\\u00e7a\": 0.7775800824165344}, {\"score de confian\\u00e7a\": 0.4660148322582245}, {\"score de confian\\u00e7a\": 0.2888075113296509}, {\"score de confian\\u00e7a\": 0.9998108744621277}, {\"score de confian\\u00e7a\": 0.9906424880027771}, {\"score de confian\\u00e7a\": 0.32306650280952454}, {\"score de confian\\u00e7a\": 0.08483850210905075}, {\"score de confian\\u00e7a\": 0.9991108775138855}, {\"score de confian\\u00e7a\": 0.9984620809555054}, {\"score de confian\\u00e7a\": 0.17365100979804993}, {\"score de confian\\u00e7a\": 0.8842520117759705}, {\"score de confian\\u00e7a\": 0.965277373790741}, {\"score de confian\\u00e7a\": 0.9495093822479248}, {\"score de confian\\u00e7a\": 0.9339665174484253}, {\"score de confian\\u00e7a\": 0.9999679327011108}, {\"score de confian\\u00e7a\": 0.9994184970855713}, {\"score de confian\\u00e7a\": 0.9949458241462708}, {\"score de confian\\u00e7a\": 0.988775372505188}, {\"score de confian\\u00e7a\": 0.15533185005187988}, {\"score de confian\\u00e7a\": 0.1532592922449112}, {\"score de confian\\u00e7a\": 0.9998898506164551}, {\"score de confian\\u00e7a\": 0.9999390840530396}, {\"score de confian\\u00e7a\": 0.325861394405365}, {\"score de confian\\u00e7a\": 0.8868926763534546}, {\"score de confian\\u00e7a\": 0.86113440990448}, {\"score de confian\\u00e7a\": 0.9381020665168762}, {\"score de confian\\u00e7a\": 0.7839311957359314}, {\"score de confian\\u00e7a\": 0.13780441880226135}, {\"score de confian\\u00e7a\": 0.6122101545333862}, {\"score de confian\\u00e7a\": 0.9999526739120483}, {\"score de confian\\u00e7a\": 0.9989287257194519}, {\"score de confian\\u00e7a\": 0.4439685344696045}, {\"score de confian\\u00e7a\": 0.10514403879642487}, {\"score de confian\\u00e7a\": 0.1465648114681244}, {\"score de confian\\u00e7a\": 0.9999617338180542}, {\"score de confian\\u00e7a\": 0.6002451777458191}, {\"score de confian\\u00e7a\": 0.9817603230476379}, {\"score de confian\\u00e7a\": 0.9757628440856934}, {\"score de confian\\u00e7a\": 0.8511834740638733}, {\"score de confian\\u00e7a\": 0.085253044962883}, {\"score de confian\\u00e7a\": 0.941292941570282}, {\"score de confian\\u00e7a\": 0.22290021181106567}, {\"score de confian\\u00e7a\": 0.054096318781375885}, {\"score de confian\\u00e7a\": 0.907495379447937}, {\"score de confian\\u00e7a\": 0.9999508857727051}, {\"score de confian\\u00e7a\": 0.9999377727508545}, {\"score de confian\\u00e7a\": 0.9998327493667603}, {\"score de confian\\u00e7a\": 0.9998109936714172}, {\"score de confian\\u00e7a\": 0.5067099928855896}, {\"score de confian\\u00e7a\": 0.10583620518445969}, {\"score de confian\\u00e7a\": 0.109843410551548}, {\"score de confian\\u00e7a\": 0.998700737953186}, {\"score de confian\\u00e7a\": 0.3833438456058502}, {\"score de confian\\u00e7a\": 0.12200456112623215}, {\"score de confian\\u00e7a\": 0.07462865114212036}, {\"score de confian\\u00e7a\": 0.9990010857582092}, {\"score de confian\\u00e7a\": 0.14828258752822876}, {\"score de confian\\u00e7a\": 0.9999896287918091}, {\"score de confian\\u00e7a\": 0.962101936340332}, {\"score de confian\\u00e7a\": 0.23513682186603546}, {\"score de confian\\u00e7a\": 0.9999086856842041}, {\"score de confian\\u00e7a\": 0.08290565013885498}, {\"score de confian\\u00e7a\": 0.9230514168739319}, {\"score de confian\\u00e7a\": 0.9999576807022095}, {\"score de confian\\u00e7a\": 0.8459897637367249}, {\"score de confian\\u00e7a\": 0.9998619556427002}, {\"score de confian\\u00e7a\": 0.9792632460594177}, {\"score de confian\\u00e7a\": 0.07420831173658371}, {\"score de confian\\u00e7a\": 0.07036283612251282}, {\"score de confian\\u00e7a\": 0.9997962117195129}, {\"score de confian\\u00e7a\": 0.9988096952438354}, {\"score de confian\\u00e7a\": 0.999963641166687}, {\"score de confian\\u00e7a\": 0.9991782307624817}, {\"score de confian\\u00e7a\": 0.9985964894294739}, {\"score de confian\\u00e7a\": 0.36402881145477295}, {\"score de confian\\u00e7a\": 0.06224897876381874}, {\"score de confian\\u00e7a\": 0.5228255391120911}, {\"score de confian\\u00e7a\": 0.056391023099422455}, {\"score de confian\\u00e7a\": 0.9999858140945435}, {\"score de confian\\u00e7a\": 0.9999617338180542}, {\"score de confian\\u00e7a\": 0.9655106067657471}, {\"score de confian\\u00e7a\": 0.9505394101142883}, {\"score de confian\\u00e7a\": 0.9455594420433044}, {\"score de confian\\u00e7a\": 0.44190657138824463}, {\"score de confian\\u00e7a\": 0.9999440908432007}, {\"score de confian\\u00e7a\": 0.07186310738325119}, {\"score de confian\\u00e7a\": 0.9977845549583435}, {\"score de confian\\u00e7a\": 0.3214016854763031}, {\"score de confian\\u00e7a\": 0.27024421095848083}, {\"score de confian\\u00e7a\": 0.15596120059490204}, {\"score de confian\\u00e7a\": 0.4845760464668274}, {\"score de confian\\u00e7a\": 0.060335010290145874}, {\"score de confian\\u00e7a\": 0.9999337196350098}, {\"score de confian\\u00e7a\": 0.4685722589492798}, {\"score de confian\\u00e7a\": 0.999987006187439}, {\"score de confian\\u00e7a\": 0.6042635440826416}, {\"score de confian\\u00e7a\": 0.999994158744812}, {\"score de confian\\u00e7a\": 0.2064809650182724}, {\"score de confian\\u00e7a\": 0.06383226066827774}, {\"score de confian\\u00e7a\": 0.6903924345970154}, {\"score de confian\\u00e7a\": 0.6338143944740295}, {\"score de confian\\u00e7a\": 0.9967207312583923}, {\"score de confian\\u00e7a\": 0.06498751789331436}, {\"score de confian\\u00e7a\": 0.9999922513961792}, {\"score de confian\\u00e7a\": 0.9998987913131714}, {\"score de confian\\u00e7a\": 0.9998379945755005}, {\"score de confian\\u00e7a\": 0.7801498174667358}, {\"score de confian\\u00e7a\": 0.9979433417320251}, {\"score de confian\\u00e7a\": 0.9876708984375}, {\"score de confian\\u00e7a\": 0.050398796796798706}, {\"score de confian\\u00e7a\": 0.9984099864959717}, {\"score de confian\\u00e7a\": 0.9997798800468445}, {\"score de confian\\u00e7a\": 0.08179040998220444}, {\"score de confian\\u00e7a\": 0.055505670607089996}, {\"score de confian\\u00e7a\": 0.9993294477462769}, {\"score de confian\\u00e7a\": 0.1941252499818802}, {\"score de confian\\u00e7a\": 0.9991613626480103}, {\"score de confian\\u00e7a\": 0.10059414803981781}, {\"score de confian\\u00e7a\": 0.05377933010458946}, {\"score de confian\\u00e7a\": 0.9998233914375305}, {\"score de confian\\u00e7a\": 0.9942527413368225}, {\"score de confian\\u00e7a\": 0.9999237060546875}, {\"score de confian\\u00e7a\": 0.7600030303001404}, {\"score de confian\\u00e7a\": 0.505010724067688}, {\"score de confian\\u00e7a\": 0.07355157285928726}, {\"score de confian\\u00e7a\": 0.27957016229629517}, {\"score de confian\\u00e7a\": 0.15638019144535065}, {\"score de confian\\u00e7a\": 0.9998243451118469}, {\"score de confian\\u00e7a\": 0.06867363303899765}, {\"score de confian\\u00e7a\": 0.9998608827590942}, {\"score de confian\\u00e7a\": 0.9998544454574585}, {\"score de confian\\u00e7a\": 0.999907374382019}, {\"score de confian\\u00e7a\": 0.7186459302902222}, {\"score de confian\\u00e7a\": 0.9998999834060669}, {\"score de confian\\u00e7a\": 0.9999247789382935}, {\"score de confian\\u00e7a\": 0.9996768236160278}, {\"score de confian\\u00e7a\": 0.9999464750289917}, {\"score de confian\\u00e7a\": 0.9999207258224487}, {\"score de confian\\u00e7a\": 0.9999849796295166}, {\"score de confian\\u00e7a\": 0.9994268417358398}, {\"score de confian\\u00e7a\": 0.866659939289093}, {\"score de confian\\u00e7a\": 0.5838820934295654}, {\"score de confian\\u00e7a\": 0.999977707862854}, {\"score de confian\\u00e7a\": 0.1634485125541687}, {\"score de confian\\u00e7a\": 0.07620027661323547}, {\"score de confian\\u00e7a\": 0.9999638795852661}, {\"score de confian\\u00e7a\": 0.9040054082870483}, {\"score de confian\\u00e7a\": 0.9927714467048645}, {\"score de confian\\u00e7a\": 0.9777947664260864}, {\"score de confian\\u00e7a\": 0.06261546164751053}, {\"score de confian\\u00e7a\": 0.9935128092765808}, {\"score de confian\\u00e7a\": 0.868746280670166}, {\"score de confian\\u00e7a\": 0.9016581177711487}, {\"score de confian\\u00e7a\": 0.0716407299041748}, {\"score de confian\\u00e7a\": 0.9757454991340637}, {\"score de confian\\u00e7a\": 0.2967991530895233}, {\"score de confian\\u00e7a\": 0.9997956156730652}, {\"score de confian\\u00e7a\": 0.9982069730758667}, {\"score de confian\\u00e7a\": 0.9264596104621887}, {\"score de confian\\u00e7a\": 0.05344502255320549}, {\"score de confian\\u00e7a\": 0.9978394508361816}, {\"score de confian\\u00e7a\": 0.6672853827476501}, {\"score de confian\\u00e7a\": 0.06750001758337021}, {\"score de confian\\u00e7a\": 0.984951913356781}, {\"score de confian\\u00e7a\": 0.8229528069496155}, {\"score de confian\\u00e7a\": 0.37472838163375854}, {\"score de confian\\u00e7a\": 0.7969889044761658}, {\"score de confian\\u00e7a\": 0.09401313960552216}, {\"score de confian\\u00e7a\": 0.2361810952425003}, {\"score de confian\\u00e7a\": 0.15347138047218323}, {\"score de confian\\u00e7a\": 0.2253543585538864}, {\"score de confian\\u00e7a\": 0.9589206576347351}, {\"score de confian\\u00e7a\": 0.9999359846115112}, {\"score de confian\\u00e7a\": 0.9016945958137512}, {\"score de confian\\u00e7a\": 0.07189425081014633}, {\"score de confian\\u00e7a\": 0.0633024200797081}, {\"score de confian\\u00e7a\": 0.9999662637710571}, {\"score de confian\\u00e7a\": 0.9057583212852478}, {\"score de confian\\u00e7a\": 0.40583157539367676}, {\"score de confian\\u00e7a\": 0.05445611849427223}, {\"score de confian\\u00e7a\": 0.9395112991333008}, {\"score de confian\\u00e7a\": 0.9905164837837219}, {\"score de confian\\u00e7a\": 0.7729333639144897}, {\"score de confian\\u00e7a\": 0.140745148062706}, {\"score de confian\\u00e7a\": 0.9999768733978271}, {\"score de confian\\u00e7a\": 0.9970418810844421}, {\"score de confian\\u00e7a\": 0.20176127552986145}, {\"score de confian\\u00e7a\": 0.7002829313278198}, {\"score de confian\\u00e7a\": 0.9998507499694824}, {\"score de confian\\u00e7a\": 0.9997649788856506}, {\"score de confian\\u00e7a\": 0.998960018157959}, {\"score de confian\\u00e7a\": 0.33165785670280457}, {\"score de confian\\u00e7a\": 0.08161178231239319}, {\"score de confian\\u00e7a\": 0.9959860444068909}, {\"score de confian\\u00e7a\": 0.09119986742734909}, {\"score de confian\\u00e7a\": 0.9595475196838379}, {\"score de confian\\u00e7a\": 0.9557193517684937}, {\"score de confian\\u00e7a\": 0.7984395027160645}, {\"score de confian\\u00e7a\": 0.34839561581611633}, {\"score de confian\\u00e7a\": 0.9886330962181091}, {\"score de confian\\u00e7a\": 0.15142764151096344}, {\"score de confian\\u00e7a\": 0.9991657733917236}, {\"score de confian\\u00e7a\": 0.08707022666931152}, {\"score de confian\\u00e7a\": 0.08400624990463257}, {\"score de confian\\u00e7a\": 0.07181394100189209}, {\"score de confian\\u00e7a\": 0.9999006986618042}, {\"score de confian\\u00e7a\": 0.9998956918716431}, {\"score de confian\\u00e7a\": 0.9999161958694458}, {\"score de confian\\u00e7a\": 0.9462347030639648}, {\"score de confian\\u00e7a\": 0.825403094291687}, {\"score de confian\\u00e7a\": 0.7660536766052246}, {\"score de confian\\u00e7a\": 0.9922505021095276}, {\"score de confian\\u00e7a\": 0.4433952867984772}, {\"score de confian\\u00e7a\": 0.7190021276473999}, {\"score de confian\\u00e7a\": 0.9650595188140869}, {\"score de confian\\u00e7a\": 0.8718698620796204}, {\"score de confian\\u00e7a\": 0.99950110912323}, {\"score de confian\\u00e7a\": 0.9998989105224609}, {\"score de confian\\u00e7a\": 0.7612708806991577}, {\"score de confian\\u00e7a\": 0.9981123208999634}, {\"score de confian\\u00e7a\": 0.9180713295936584}, {\"score de confian\\u00e7a\": 0.99974125623703}, {\"score de confian\\u00e7a\": 0.9718731045722961}, {\"score de confian\\u00e7a\": 0.9974677562713623}, {\"score de confian\\u00e7a\": 0.9999616146087646}, {\"score de confian\\u00e7a\": 0.9991936087608337}, {\"score de confian\\u00e7a\": 0.9999828338623047}, {\"score de confian\\u00e7a\": 0.9830489158630371}, {\"score de confian\\u00e7a\": 0.8862874507904053}, {\"score de confian\\u00e7a\": 0.33838120102882385}, {\"score de confian\\u00e7a\": 0.5049893856048584}, {\"score de confian\\u00e7a\": 0.998917818069458}, {\"score de confian\\u00e7a\": 0.9999978542327881}, {\"score de confian\\u00e7a\": 0.054784663021564484}, {\"score de confian\\u00e7a\": 0.9999544620513916}, {\"score de confian\\u00e7a\": 0.3218693435192108}, {\"score de confian\\u00e7a\": 0.2300308346748352}, {\"score de confian\\u00e7a\": 0.9956116080284119}, {\"score de confian\\u00e7a\": 0.9998045563697815}, {\"score de confian\\u00e7a\": 0.05986243113875389}, {\"score de confian\\u00e7a\": 0.937018871307373}, {\"score de confian\\u00e7a\": 0.5627259612083435}, {\"score de confian\\u00e7a\": 0.3966149687767029}, {\"score de confian\\u00e7a\": 0.11112771928310394}, {\"score de confian\\u00e7a\": 0.0678507462143898}, {\"score de confian\\u00e7a\": 0.05421112850308418}, {\"score de confian\\u00e7a\": 0.9999750852584839}, {\"score de confian\\u00e7a\": 0.9949671626091003}, {\"score de confian\\u00e7a\": 0.24126198887825012}, {\"score de confian\\u00e7a\": 0.9429420828819275}, {\"score de confian\\u00e7a\": 0.9043114185333252}, {\"score de confian\\u00e7a\": 0.9472171068191528}, {\"score de confian\\u00e7a\": 0.555970311164856}, {\"score de confian\\u00e7a\": 0.9999440908432007}, {\"score de confian\\u00e7a\": 0.999980092048645}, {\"score de confian\\u00e7a\": 0.08141222596168518}, {\"score de confian\\u00e7a\": 0.999512791633606}, {\"score de confian\\u00e7a\": 0.14354988932609558}, {\"score de confian\\u00e7a\": 0.9996178150177002}, {\"score de confian\\u00e7a\": 0.05988535284996033}, {\"score de confian\\u00e7a\": 0.9999428987503052}, {\"score de confian\\u00e7a\": 0.9999566078186035}, {\"score de confian\\u00e7a\": 0.23561091721057892}, {\"score de confian\\u00e7a\": 0.11462698131799698}, {\"score de confian\\u00e7a\": 0.9741378426551819}, {\"score de confian\\u00e7a\": 0.9984723925590515}, {\"score de confian\\u00e7a\": 0.7509911060333252}, {\"score de confian\\u00e7a\": 0.11911855638027191}, {\"score de confian\\u00e7a\": 0.9575038552284241}, {\"score de confian\\u00e7a\": 0.07058987766504288}, {\"score de confian\\u00e7a\": 0.33509665727615356}, {\"score de confian\\u00e7a\": 0.0839352235198021}, {\"score de confian\\u00e7a\": 0.24307361245155334}, {\"score de confian\\u00e7a\": 0.9994674324989319}, {\"score de confian\\u00e7a\": 0.9004862308502197}, {\"score de confian\\u00e7a\": 0.9250768423080444}, {\"score de confian\\u00e7a\": 0.1609393060207367}, {\"score de confian\\u00e7a\": 0.9986901879310608}, {\"score de confian\\u00e7a\": 0.3629000782966614}, {\"score de confian\\u00e7a\": 0.11522908508777618}, {\"score de confian\\u00e7a\": 0.10646868497133255}, {\"score de confian\\u00e7a\": 0.8742555379867554}, {\"score de confian\\u00e7a\": 0.9826425313949585}, {\"score de confian\\u00e7a\": 0.9995681643486023}, {\"score de confian\\u00e7a\": 0.994621992111206}, {\"score de confian\\u00e7a\": 0.9960228204727173}, {\"score de confian\\u00e7a\": 0.30154168605804443}, {\"score de confian\\u00e7a\": 0.9477147459983826}, {\"score de confian\\u00e7a\": 0.941575825214386}, {\"score de confian\\u00e7a\": 0.7227815985679626}, {\"score de confian\\u00e7a\": 0.46822401881217957}, {\"score de confian\\u00e7a\": 0.2815782427787781}, {\"score de confian\\u00e7a\": 0.07526227831840515}, {\"score de confian\\u00e7a\": 0.9943972826004028}, {\"score de confian\\u00e7a\": 0.14721722900867462}, {\"score de confian\\u00e7a\": 0.06122921034693718}, {\"score de confian\\u00e7a\": 0.058327268809080124}, {\"score de confian\\u00e7a\": 0.9999817609786987}, {\"score de confian\\u00e7a\": 0.9960622191429138}, {\"score de confian\\u00e7a\": 0.9997230172157288}, {\"score de confian\\u00e7a\": 0.133056178689003}, {\"score de confian\\u00e7a\": 0.9982286095619202}, {\"score de confian\\u00e7a\": 0.21329732239246368}, {\"score de confian\\u00e7a\": 0.9999897480010986}, {\"score de confian\\u00e7a\": 0.999884843826294}, {\"score de confian\\u00e7a\": 0.9944966435432434}, {\"score de confian\\u00e7a\": 0.925247848033905}, {\"score de confian\\u00e7a\": 0.436135858297348}, {\"score de confian\\u00e7a\": 0.9907647371292114}, {\"score de confian\\u00e7a\": 0.9804341197013855}, {\"score de confian\\u00e7a\": 0.9984661340713501}, {\"score de confian\\u00e7a\": 0.4033009111881256}, {\"score de confian\\u00e7a\": 0.141421839594841}, {\"score de confian\\u00e7a\": 0.9429693222045898}, {\"score de confian\\u00e7a\": 0.999924898147583}, {\"score de confian\\u00e7a\": 0.9995860457420349}, {\"score de confian\\u00e7a\": 0.9800176620483398}, {\"score de confian\\u00e7a\": 0.15386371314525604}, {\"score de confian\\u00e7a\": 0.9879289865493774}, {\"score de confian\\u00e7a\": 0.10157260298728943}, {\"score de confian\\u00e7a\": 0.06719836592674255}, {\"score de confian\\u00e7a\": 0.9995415210723877}, {\"score de confian\\u00e7a\": 0.30252307653427124}, {\"score de confian\\u00e7a\": 0.9999301433563232}, {\"score de confian\\u00e7a\": 0.7132312059402466}, {\"score de confian\\u00e7a\": 0.43559521436691284}, {\"score de confian\\u00e7a\": 0.1008131355047226}, {\"score de confian\\u00e7a\": 0.9999825954437256}, {\"score de confian\\u00e7a\": 0.999933123588562}, {\"score de confian\\u00e7a\": 0.999895453453064}, {\"score de confian\\u00e7a\": 0.2396620512008667}, {\"score de confian\\u00e7a\": 0.9358837604522705}, {\"score de confian\\u00e7a\": 0.999992847442627}, {\"score de confian\\u00e7a\": 0.9924548864364624}, {\"score de confian\\u00e7a\": 0.27039918303489685}, {\"score de confian\\u00e7a\": 0.9395098090171814}, {\"score de confian\\u00e7a\": 0.9998250603675842}, {\"score de confian\\u00e7a\": 0.9999421834945679}, {\"score de confian\\u00e7a\": 0.3314875364303589}, {\"score de confian\\u00e7a\": 0.16844125092029572}, {\"score de confian\\u00e7a\": 0.1252557635307312}, {\"score de confian\\u00e7a\": 0.08452922105789185}, {\"score de confian\\u00e7a\": 0.9907407760620117}, {\"score de confian\\u00e7a\": 0.9901565313339233}, {\"score de confian\\u00e7a\": 0.7550757527351379}, {\"score de confian\\u00e7a\": 0.234439417719841}, {\"score de confian\\u00e7a\": 0.06054232269525528}, {\"score de confian\\u00e7a\": 0.055318012833595276}, {\"score de confian\\u00e7a\": 0.9689784049987793}, {\"score de confian\\u00e7a\": 0.9998007416725159}, {\"score de confian\\u00e7a\": 0.9965403079986572}, {\"score de confian\\u00e7a\": 0.7113218307495117}, {\"score de confian\\u00e7a\": 0.1766991764307022}, {\"score de confian\\u00e7a\": 0.12785790860652924}, {\"score de confian\\u00e7a\": 0.9998871088027954}, {\"score de confian\\u00e7a\": 0.9999641180038452}, {\"score de confian\\u00e7a\": 0.9788859486579895}, {\"score de confian\\u00e7a\": 0.5226789116859436}, {\"score de confian\\u00e7a\": 0.13653890788555145}, {\"score de confian\\u00e7a\": 0.7080355286598206}, {\"score de confian\\u00e7a\": 0.9994706511497498}, {\"score de confian\\u00e7a\": 0.9938451647758484}, {\"score de confian\\u00e7a\": 0.9785335659980774}, {\"score de confian\\u00e7a\": 0.2081637680530548}, {\"score de confian\\u00e7a\": 0.999567449092865}, {\"score de confian\\u00e7a\": 0.7658990621566772}, {\"score de confian\\u00e7a\": 0.9097920060157776}, {\"score de confian\\u00e7a\": 0.7420476675033569}, {\"score de confian\\u00e7a\": 0.9989475607872009}, {\"score de confian\\u00e7a\": 0.9985540509223938}, {\"score de confian\\u00e7a\": 0.12514251470565796}, {\"score de confian\\u00e7a\": 0.9793620109558105}, {\"score de confian\\u00e7a\": 0.4046589434146881}, {\"score de confian\\u00e7a\": 0.34426772594451904}, {\"score de confian\\u00e7a\": 0.9675641655921936}, {\"score de confian\\u00e7a\": 0.9995530247688293}, {\"score de confian\\u00e7a\": 0.9993482232093811}, {\"score de confian\\u00e7a\": 0.9671314358711243}, {\"score de confian\\u00e7a\": 0.2747648060321808}, {\"score de confian\\u00e7a\": 0.9981052875518799}, {\"score de confian\\u00e7a\": 0.25531506538391113}, {\"score de confian\\u00e7a\": 0.10165514051914215}, {\"score de confian\\u00e7a\": 0.9998076558113098}, {\"score de confian\\u00e7a\": 0.9957396984100342}, {\"score de confian\\u00e7a\": 0.4514499008655548}, {\"score de confian\\u00e7a\": 0.9998667240142822}, {\"score de confian\\u00e7a\": 0.999792754650116}, {\"score de confian\\u00e7a\": 0.5150576829910278}, {\"score de confian\\u00e7a\": 0.5341390371322632}, {\"score de confian\\u00e7a\": 0.4946284294128418}, {\"score de confian\\u00e7a\": 0.8385329246520996}, {\"score de confian\\u00e7a\": 0.09748418629169464}, {\"score de confian\\u00e7a\": 0.9877287149429321}, {\"score de confian\\u00e7a\": 0.12163152545690536}, {\"score de confian\\u00e7a\": 0.46090397238731384}, {\"score de confian\\u00e7a\": 0.12892621755599976}, {\"score de confian\\u00e7a\": 0.19845931231975555}, {\"score de confian\\u00e7a\": 0.1470925360918045}, {\"score de confian\\u00e7a\": 0.994787335395813}, {\"score de confian\\u00e7a\": 0.06961999088525772}, {\"score de confian\\u00e7a\": 0.9988086223602295}, {\"score de confian\\u00e7a\": 0.3514668643474579}, {\"score de confian\\u00e7a\": 0.1752653270959854}, {\"score de confian\\u00e7a\": 0.9999706745147705}, {\"score de confian\\u00e7a\": 0.058617860078811646}, {\"score de confian\\u00e7a\": 0.9984467625617981}, {\"score de confian\\u00e7a\": 0.15518097579479218}, {\"score de confian\\u00e7a\": 0.9815215468406677}, {\"score de confian\\u00e7a\": 0.1553797721862793}, {\"score de confian\\u00e7a\": 0.07613684237003326}, {\"score de confian\\u00e7a\": 0.9978766441345215}, {\"score de confian\\u00e7a\": 0.32679814100265503}, {\"score de confian\\u00e7a\": 0.9986081719398499}, {\"score de confian\\u00e7a\": 0.9938733577728271}, {\"score de confian\\u00e7a\": 0.8644753098487854}, {\"score de confian\\u00e7a\": 0.9660388231277466}, {\"score de confian\\u00e7a\": 0.05468209087848663}, {\"score de confian\\u00e7a\": 0.0819246768951416}, {\"score de confian\\u00e7a\": 0.9963979721069336}, {\"score de confian\\u00e7a\": 0.9853679537773132}, {\"score de confian\\u00e7a\": 0.9813007116317749}, {\"score de confian\\u00e7a\": 0.799488365650177}, {\"score de confian\\u00e7a\": 0.6872221827507019}, {\"score de confian\\u00e7a\": 0.9796451330184937}, {\"score de confian\\u00e7a\": 0.9464271664619446}, {\"score de confian\\u00e7a\": 0.46020132303237915}, {\"score de confian\\u00e7a\": 0.9999574422836304}, {\"score de confian\\u00e7a\": 0.9983676075935364}, {\"score de confian\\u00e7a\": 0.9158473610877991}, {\"score de confian\\u00e7a\": 0.09966321289539337}, {\"score de confian\\u00e7a\": 0.05654880404472351}, {\"score de confian\\u00e7a\": 0.4786107540130615}, {\"score de confian\\u00e7a\": 0.9998315572738647}, {\"score de confian\\u00e7a\": 0.9996285438537598}, {\"score de confian\\u00e7a\": 0.9998832941055298}, {\"score de confian\\u00e7a\": 0.35716012120246887}, {\"score de confian\\u00e7a\": 0.9978907704353333}, {\"score de confian\\u00e7a\": 0.6533563137054443}, {\"score de confian\\u00e7a\": 0.9998745918273926}, {\"score de confian\\u00e7a\": 0.05250522494316101}, {\"score de confian\\u00e7a\": 0.9964601397514343}, {\"score de confian\\u00e7a\": 0.4114341735839844}, {\"score de confian\\u00e7a\": 0.9999896287918091}, {\"score de confian\\u00e7a\": 0.09485863149166107}, {\"score de confian\\u00e7a\": 0.06622173637151718}, {\"score de confian\\u00e7a\": 0.9217129349708557}, {\"score de confian\\u00e7a\": 0.9998911619186401}, {\"score de confian\\u00e7a\": 0.9893723130226135}, {\"score de confian\\u00e7a\": 0.25772833824157715}, {\"score de confian\\u00e7a\": 0.07406681030988693}, {\"score de confian\\u00e7a\": 0.9999699592590332}, {\"score de confian\\u00e7a\": 0.18445724248886108}, {\"score de confian\\u00e7a\": 0.07467126101255417}, {\"score de confian\\u00e7a\": 0.9998327493667603}, {\"score de confian\\u00e7a\": 0.8794875144958496}, {\"score de confian\\u00e7a\": 0.3250637352466583}, {\"score de confian\\u00e7a\": 0.2593083679676056}, {\"score de confian\\u00e7a\": 0.9999529123306274}, {\"score de confian\\u00e7a\": 0.9999290704727173}, {\"score de confian\\u00e7a\": 0.7394939661026001}, {\"score de confian\\u00e7a\": 0.6625115871429443}, {\"score de confian\\u00e7a\": 0.05546033754944801}, {\"score de confian\\u00e7a\": 0.9971465468406677}, {\"score de confian\\u00e7a\": 0.9785196185112}, {\"score de confian\\u00e7a\": 0.9600491523742676}, {\"score de confian\\u00e7a\": 0.17138655483722687}, {\"score de confian\\u00e7a\": 0.5372991561889648}, {\"score de confian\\u00e7a\": 0.9823362231254578}, {\"score de confian\\u00e7a\": 0.9978364109992981}, {\"score de confian\\u00e7a\": 0.2943442761898041}, {\"score de confian\\u00e7a\": 0.14395879209041595}, {\"score de confian\\u00e7a\": 0.9994137287139893}, {\"score de confian\\u00e7a\": 0.6396459341049194}, {\"score de confian\\u00e7a\": 0.14167793095111847}, {\"score de confian\\u00e7a\": 0.20445847511291504}, {\"score de confian\\u00e7a\": 0.9999575614929199}, {\"score de confian\\u00e7a\": 0.8470462560653687}, {\"score de confian\\u00e7a\": 0.9999637603759766}, {\"score de confian\\u00e7a\": 0.9998389482498169}, {\"score de confian\\u00e7a\": 0.9999579191207886}, {\"score de confian\\u00e7a\": 0.9998262524604797}, {\"score de confian\\u00e7a\": 0.9999972581863403}, {\"score de confian\\u00e7a\": 0.9999936819076538}, {\"score de confian\\u00e7a\": 0.09448549151420593}, {\"score de confian\\u00e7a\": 0.06055299565196037}, {\"score de confian\\u00e7a\": 0.9993957281112671}, {\"score de confian\\u00e7a\": 0.9996607303619385}, {\"score de confian\\u00e7a\": 0.3368184566497803}, {\"score de confian\\u00e7a\": 0.9999802112579346}, {\"score de confian\\u00e7a\": 0.5828739404678345}, {\"score de confian\\u00e7a\": 0.8203179836273193}, {\"score de confian\\u00e7a\": 0.6132554411888123}, {\"score de confian\\u00e7a\": 0.9999768733978271}, {\"score de confian\\u00e7a\": 0.9999752044677734}, {\"score de confian\\u00e7a\": 0.9922532439231873}, {\"score de confian\\u00e7a\": 0.9496884942054749}, {\"score de confian\\u00e7a\": 0.060147155076265335}, {\"score de confian\\u00e7a\": 0.9259214997291565}, {\"score de confian\\u00e7a\": 0.16670376062393188}, {\"score de confian\\u00e7a\": 0.9945958256721497}, {\"score de confian\\u00e7a\": 0.6187500357627869}, {\"score de confian\\u00e7a\": 0.31321072578430176}, {\"score de confian\\u00e7a\": 0.6983502507209778}, {\"score de confian\\u00e7a\": 0.2980244755744934}, {\"score de confian\\u00e7a\": 0.6036518216133118}, {\"score de confian\\u00e7a\": 0.4985315799713135}, {\"score de confian\\u00e7a\": 0.9999798536300659}, {\"score de confian\\u00e7a\": 0.9943853616714478}, {\"score de confian\\u00e7a\": 0.18156996369361877}, {\"score de confian\\u00e7a\": 0.9984177350997925}, {\"score de confian\\u00e7a\": 0.9213821887969971}, {\"score de confian\\u00e7a\": 0.8220914602279663}, {\"score de confian\\u00e7a\": 0.9997138381004333}, {\"score de confian\\u00e7a\": 0.9992107152938843}, {\"score de confian\\u00e7a\": 0.2405393123626709}, {\"score de confian\\u00e7a\": 0.06717006862163544}, {\"score de confian\\u00e7a\": 0.9999409914016724}, {\"score de confian\\u00e7a\": 0.9999426603317261}, {\"score de confian\\u00e7a\": 0.8662994503974915}, {\"score de confian\\u00e7a\": 0.9997343420982361}, {\"score de confian\\u00e7a\": 0.9915095567703247}, {\"score de confian\\u00e7a\": 0.8470960259437561}, {\"score de confian\\u00e7a\": 0.9999792575836182}, {\"score de confian\\u00e7a\": 0.33999717235565186}, {\"score de confian\\u00e7a\": 0.09557463973760605}, {\"score de confian\\u00e7a\": 0.0894969254732132}, {\"score de confian\\u00e7a\": 0.07920423895120621}, {\"score de confian\\u00e7a\": 0.9913001656532288}, {\"score de confian\\u00e7a\": 0.8963832259178162}, {\"score de confian\\u00e7a\": 0.3670061528682709}, {\"score de confian\\u00e7a\": 0.229341521859169}, {\"score de confian\\u00e7a\": 0.9982336759567261}, {\"score de confian\\u00e7a\": 0.9999878406524658}, {\"score de confian\\u00e7a\": 0.9770857095718384}, {\"score de confian\\u00e7a\": 0.22330012917518616}, {\"score de confian\\u00e7a\": 0.9169124364852905}, {\"score de confian\\u00e7a\": 0.9952604174613953}, {\"score de confian\\u00e7a\": 0.9448645114898682}, {\"score de confian\\u00e7a\": 0.9999778270721436}, {\"score de confian\\u00e7a\": 0.9123737812042236}, {\"score de confian\\u00e7a\": 0.1454838216304779}, {\"score de confian\\u00e7a\": 0.9999769926071167}, {\"score de confian\\u00e7a\": 0.37813639640808105}, {\"score de confian\\u00e7a\": 0.9999469518661499}, {\"score de confian\\u00e7a\": 0.9997574687004089}, {\"score de confian\\u00e7a\": 0.9996837377548218}, {\"score de confian\\u00e7a\": 0.9999337196350098}, {\"score de confian\\u00e7a\": 0.8079315423965454}, {\"score de confian\\u00e7a\": 0.9999614953994751}, {\"score de confian\\u00e7a\": 0.5193068981170654}, {\"score de confian\\u00e7a\": 0.2818123400211334}, {\"score de confian\\u00e7a\": 0.18580090999603271}, {\"score de confian\\u00e7a\": 0.4339926242828369}, {\"score de confian\\u00e7a\": 0.33116093277931213}, {\"score de confian\\u00e7a\": 0.08219146728515625}, {\"score de confian\\u00e7a\": 0.999964714050293}, {\"score de confian\\u00e7a\": 0.9957127571105957}, {\"score de confian\\u00e7a\": 0.9999507665634155}, {\"score de confian\\u00e7a\": 0.9996585845947266}, {\"score de confian\\u00e7a\": 0.9980459213256836}, {\"score de confian\\u00e7a\": 0.9999128580093384}, {\"score de confian\\u00e7a\": 0.9733994007110596}, {\"score de confian\\u00e7a\": 0.9135607481002808}, {\"score de confian\\u00e7a\": 0.9999130964279175}, {\"score de confian\\u00e7a\": 0.5291282534599304}, {\"score de confian\\u00e7a\": 0.9999473094940186}, {\"score de confian\\u00e7a\": 0.9984257221221924}, {\"score de confian\\u00e7a\": 0.8086748123168945}, {\"score de confian\\u00e7a\": 0.18583253026008606}, {\"score de confian\\u00e7a\": 0.07842745631933212}, {\"score de confian\\u00e7a\": 0.15766753256320953}, {\"score de confian\\u00e7a\": 0.99431312084198}, {\"score de confian\\u00e7a\": 0.9964086413383484}, {\"score de confian\\u00e7a\": 0.13943219184875488}, {\"score de confian\\u00e7a\": 0.9999854564666748}, {\"score de confian\\u00e7a\": 0.999987006187439}, {\"score de confian\\u00e7a\": 0.9997283816337585}, {\"score de confian\\u00e7a\": 0.9961052536964417}, {\"score de confian\\u00e7a\": 0.3625621199607849}, {\"score de confian\\u00e7a\": 0.9711223244667053}, {\"score de confian\\u00e7a\": 0.11896962672472}, {\"score de confian\\u00e7a\": 0.9999731779098511}, {\"score de confian\\u00e7a\": 0.9999349117279053}, {\"score de confian\\u00e7a\": 0.999910831451416}, {\"score de confian\\u00e7a\": 0.9997279047966003}, {\"score de confian\\u00e7a\": 0.9998748302459717}, {\"score de confian\\u00e7a\": 0.9997270703315735}, {\"score de confian\\u00e7a\": 0.9993311166763306}, {\"score de confian\\u00e7a\": 0.9401837587356567}, {\"score de confian\\u00e7a\": 0.3220999538898468}, {\"score de confian\\u00e7a\": 0.2525971233844757}, {\"score de confian\\u00e7a\": 0.09339731931686401}, {\"score de confian\\u00e7a\": 0.9999611377716064}, {\"score de confian\\u00e7a\": 0.9999914169311523}, {\"score de confian\\u00e7a\": 0.9982665777206421}, {\"score de confian\\u00e7a\": 0.9986294507980347}, {\"score de confian\\u00e7a\": 0.9995224475860596}, {\"score de confian\\u00e7a\": 0.9997720122337341}, {\"score de confian\\u00e7a\": 0.9996459484100342}, {\"score de confian\\u00e7a\": 0.9996129870414734}, {\"score de confian\\u00e7a\": 0.05680377408862114}, {\"score de confian\\u00e7a\": 0.9999243021011353}, {\"score de confian\\u00e7a\": 0.998219907283783}, {\"score de confian\\u00e7a\": 0.977156400680542}, {\"score de confian\\u00e7a\": 0.9982402324676514}, {\"score de confian\\u00e7a\": 0.06490316987037659}, {\"score de confian\\u00e7a\": 0.9999171495437622}, {\"score de confian\\u00e7a\": 0.9970620274543762}, {\"score de confian\\u00e7a\": 0.6466402411460876}, {\"score de confian\\u00e7a\": 0.9589861631393433}, {\"score de confian\\u00e7a\": 0.8839848041534424}, {\"score de confian\\u00e7a\": 0.6979208588600159}, {\"score de confian\\u00e7a\": 0.07880646735429764}, {\"score de confian\\u00e7a\": 0.564860999584198}, {\"score de confian\\u00e7a\": 0.999951958656311}, {\"score de confian\\u00e7a\": 0.9999072551727295}, {\"score de confian\\u00e7a\": 0.44513529539108276}, {\"score de confian\\u00e7a\": 0.2919040322303772}, {\"score de confian\\u00e7a\": 0.9763981103897095}, {\"score de confian\\u00e7a\": 0.9638676643371582}, {\"score de confian\\u00e7a\": 0.4936639964580536}, {\"score de confian\\u00e7a\": 0.30212628841400146}, {\"score de confian\\u00e7a\": 0.1036004051566124}, {\"score de confian\\u00e7a\": 0.9999933242797852}, {\"score de confian\\u00e7a\": 0.9604529738426208}, {\"score de confian\\u00e7a\": 0.12457204610109329}, {\"score de confian\\u00e7a\": 0.6438745856285095}, {\"score de confian\\u00e7a\": 0.11580567061901093}, {\"score de confian\\u00e7a\": 0.999521017074585}, {\"score de confian\\u00e7a\": 0.38413333892822266}, {\"score de confian\\u00e7a\": 0.9999668598175049}, {\"score de confian\\u00e7a\": 0.9999903440475464}, {\"score de confian\\u00e7a\": 0.05702190846204758}, {\"score de confian\\u00e7a\": 0.9999822378158569}, {\"score de confian\\u00e7a\": 0.9998125433921814}, {\"score de confian\\u00e7a\": 0.9999675750732422}, {\"score de confian\\u00e7a\": 0.999992847442627}, {\"score de confian\\u00e7a\": 0.9426898956298828}, {\"score de confian\\u00e7a\": 0.9985888600349426}, {\"score de confian\\u00e7a\": 0.9756585955619812}, {\"score de confian\\u00e7a\": 0.3681292235851288}, {\"score de confian\\u00e7a\": 0.9532501697540283}, {\"score de confian\\u00e7a\": 0.6858185529708862}, {\"score de confian\\u00e7a\": 0.3437597453594208}, {\"score de confian\\u00e7a\": 0.9479393362998962}, {\"score de confian\\u00e7a\": 0.34142813086509705}, {\"score de confian\\u00e7a\": 0.9986794590950012}, {\"score de confian\\u00e7a\": 0.5797214508056641}, {\"score de confian\\u00e7a\": 0.9953075051307678}, {\"score de confian\\u00e7a\": 0.9998409748077393}, {\"score de confian\\u00e7a\": 0.873343288898468}, {\"score de confian\\u00e7a\": 0.5434625744819641}, {\"score de confian\\u00e7a\": 0.08187409490346909}, {\"score de confian\\u00e7a\": 0.9938872456550598}, {\"score de confian\\u00e7a\": 0.9746934771537781}, {\"score de confian\\u00e7a\": 0.06654803454875946}, {\"score de confian\\u00e7a\": 0.9999887943267822}, {\"score de confian\\u00e7a\": 0.9373000860214233}, {\"score de confian\\u00e7a\": 0.8844122886657715}, {\"score de confian\\u00e7a\": 0.5898032188415527}, {\"score de confian\\u00e7a\": 0.999769389629364}, {\"score de confian\\u00e7a\": 0.28012362122535706}, {\"score de confian\\u00e7a\": 0.9986377358436584}, {\"score de confian\\u00e7a\": 0.9984049201011658}, {\"score de confian\\u00e7a\": 0.12064281851053238}, {\"score de confian\\u00e7a\": 0.08253400027751923}, {\"score de confian\\u00e7a\": 0.9929196238517761}, {\"score de confian\\u00e7a\": 0.9983558058738708}, {\"score de confian\\u00e7a\": 0.62809157371521}, {\"score de confian\\u00e7a\": 0.7044216990470886}, {\"score de confian\\u00e7a\": 0.999983549118042}, {\"score de confian\\u00e7a\": 0.999812662601471}, {\"score de confian\\u00e7a\": 0.27587196230888367}, {\"score de confian\\u00e7a\": 0.9999433755874634}, {\"score de confian\\u00e7a\": 0.9998185038566589}, {\"score de confian\\u00e7a\": 0.9999923706054688}, {\"score de confian\\u00e7a\": 0.9973747730255127}, {\"score de confian\\u00e7a\": 0.9999328851699829}, {\"score de confian\\u00e7a\": 0.9999072551727295}, {\"score de confian\\u00e7a\": 0.6045966744422913}, {\"score de confian\\u00e7a\": 0.3421812355518341}, {\"score de confian\\u00e7a\": 0.47211790084838867}, {\"score de confian\\u00e7a\": 0.8136326670646667}, {\"score de confian\\u00e7a\": 0.4565790295600891}, {\"score de confian\\u00e7a\": 0.9999651908874512}, {\"score de confian\\u00e7a\": 0.9951344132423401}, {\"score de confian\\u00e7a\": 0.20005585253238678}, {\"score de confian\\u00e7a\": 0.6050446033477783}, {\"score de confian\\u00e7a\": 0.8153108954429626}, {\"score de confian\\u00e7a\": 0.7096579074859619}, {\"score de confian\\u00e7a\": 0.8145620822906494}, {\"score de confian\\u00e7a\": 0.9308075308799744}, {\"score de confian\\u00e7a\": 0.989775538444519}, {\"score de confian\\u00e7a\": 0.9997410178184509}, {\"score de confian\\u00e7a\": 0.6032095551490784}, {\"score de confian\\u00e7a\": 0.14996406435966492}, {\"score de confian\\u00e7a\": 0.9999972581863403}, {\"score de confian\\u00e7a\": 0.9823471307754517}, {\"score de confian\\u00e7a\": 0.9999557733535767}, {\"score de confian\\u00e7a\": 0.06232075020670891}, {\"score de confian\\u00e7a\": 0.9785377979278564}, {\"score de confian\\u00e7a\": 0.6166225075721741}, {\"score de confian\\u00e7a\": 0.09210146963596344}, {\"score de confian\\u00e7a\": 0.9925804138183594}, {\"score de confian\\u00e7a\": 0.9991763234138489}, {\"score de confian\\u00e7a\": 0.7949289083480835}, {\"score de confian\\u00e7a\": 0.1914292722940445}, {\"score de confian\\u00e7a\": 0.7653794884681702}, {\"score de confian\\u00e7a\": 0.444095253944397}, {\"score de confian\\u00e7a\": 0.15499599277973175}, {\"score de confian\\u00e7a\": 0.9991256594657898}, {\"score de confian\\u00e7a\": 0.999957799911499}, {\"score de confian\\u00e7a\": 0.10366278141736984}, {\"score de confian\\u00e7a\": 0.9995566010475159}, {\"score de confian\\u00e7a\": 0.600757360458374}, {\"score de confian\\u00e7a\": 0.2668220102787018}, {\"score de confian\\u00e7a\": 0.054210927337408066}, {\"score de confian\\u00e7a\": 0.999988317489624}, {\"score de confian\\u00e7a\": 0.9992187023162842}, {\"score de confian\\u00e7a\": 0.1989784836769104}, {\"score de confian\\u00e7a\": 0.9999856948852539}, {\"score de confian\\u00e7a\": 0.9999537467956543}, {\"score de confian\\u00e7a\": 0.9925205707550049}, {\"score de confian\\u00e7a\": 0.9999537467956543}, {\"score de confian\\u00e7a\": 0.9998500347137451}, {\"score de confian\\u00e7a\": 0.9987198114395142}, {\"score de confian\\u00e7a\": 0.9997355341911316}, {\"score de confian\\u00e7a\": 0.9976898431777954}, {\"score de confian\\u00e7a\": 0.252397358417511}, {\"score de confian\\u00e7a\": 0.9997103810310364}, {\"score de confian\\u00e7a\": 0.9999626874923706}, {\"score de confian\\u00e7a\": 0.991371750831604}, {\"score de confian\\u00e7a\": 0.09828631579875946}, {\"score de confian\\u00e7a\": 0.9998823404312134}, {\"score de confian\\u00e7a\": 0.8480658531188965}, {\"score de confian\\u00e7a\": 0.06450948119163513}, {\"score de confian\\u00e7a\": 0.25433000922203064}, {\"score de confian\\u00e7a\": 0.9989676475524902}, {\"score de confian\\u00e7a\": 0.05819074809551239}, {\"score de confian\\u00e7a\": 0.99994957447052}, {\"score de confian\\u00e7a\": 0.9288166165351868}, {\"score de confian\\u00e7a\": 0.9999223947525024}, {\"score de confian\\u00e7a\": 0.9999252557754517}, {\"score de confian\\u00e7a\": 0.7890908122062683}, {\"score de confian\\u00e7a\": 0.8859705924987793}, {\"score de confian\\u00e7a\": 0.9095922112464905}, {\"score de confian\\u00e7a\": 0.8347401022911072}, {\"score de confian\\u00e7a\": 0.5989190340042114}, {\"score de confian\\u00e7a\": 0.4810265600681305}, {\"score de confian\\u00e7a\": 0.11062000691890717}, {\"score de confian\\u00e7a\": 0.9998912811279297}, {\"score de confian\\u00e7a\": 0.9997820258140564}, {\"score de confian\\u00e7a\": 0.999923825263977}, {\"score de confian\\u00e7a\": 0.9992485642433167}, {\"score de confian\\u00e7a\": 0.9892067909240723}, {\"score de confian\\u00e7a\": 0.9999788999557495}, {\"score de confian\\u00e7a\": 0.9999810457229614}, {\"score de confian\\u00e7a\": 0.9999468326568604}, {\"score de confian\\u00e7a\": 0.9999725818634033}, {\"score de confian\\u00e7a\": 0.9999905824661255}, {\"score de confian\\u00e7a\": 0.983858048915863}, {\"score de confian\\u00e7a\": 0.9878705143928528}, {\"score de confian\\u00e7a\": 0.46432918310165405}, {\"score de confian\\u00e7a\": 0.13175451755523682}]}}, {\"mode\": \"vega-lite\"});\n",
       "</script>"
      ],
      "text/plain": [
       "alt.Chart(...)"
      ]
     },
     "execution_count": 45,
     "metadata": {},
     "output_type": "execute_result"
    }
   ],
   "source": [
    "import altair as alt\n",
    "\n",
    "alt.Chart(scores_df).mark_bar().encode(\n",
    "    alt.X(\"score de confiança:Q\").bin(maxbins=20).title(\"Score de confiança\"),\n",
    "    alt.Y(\"count()\", title=\"Quantidade de instâncias\")\n",
    ")"
   ]
  },
  {
   "cell_type": "markdown",
   "id": "7d6dcd18-5857-4faa-8828-60f1f75c9454",
   "metadata": {},
   "source": [
    "## Análise das detecções por limiar de score de confiança"
   ]
  },
  {
   "cell_type": "code",
   "execution_count": 46,
   "id": "8cf6866b-50a1-43aa-a120-f832eef1bf76",
   "metadata": {},
   "outputs": [
    {
     "data": {
      "text/html": [
       "<div>\n",
       "<style scoped>\n",
       "    .dataframe tbody tr th:only-of-type {\n",
       "        vertical-align: middle;\n",
       "    }\n",
       "\n",
       "    .dataframe tbody tr th {\n",
       "        vertical-align: top;\n",
       "    }\n",
       "\n",
       "    .dataframe thead th {\n",
       "        text-align: right;\n",
       "    }\n",
       "</style>\n",
       "<table border=\"1\" class=\"dataframe\">\n",
       "  <thead>\n",
       "    <tr style=\"text-align: right;\">\n",
       "      <th></th>\n",
       "      <th>true</th>\n",
       "      <th>pred</th>\n",
       "      <th>conf</th>\n",
       "    </tr>\n",
       "  </thead>\n",
       "  <tbody>\n",
       "    <tr>\n",
       "      <th>0</th>\n",
       "      <td>tire flat</td>\n",
       "      <td>tire flat</td>\n",
       "      <td>0.9999</td>\n",
       "    </tr>\n",
       "    <tr>\n",
       "      <th>1</th>\n",
       "      <td>tire flat</td>\n",
       "      <td>(none)</td>\n",
       "      <td>None</td>\n",
       "    </tr>\n",
       "    <tr>\n",
       "      <th>2</th>\n",
       "      <td>scratch</td>\n",
       "      <td>scratch</td>\n",
       "      <td>0.789197</td>\n",
       "    </tr>\n",
       "    <tr>\n",
       "      <th>3</th>\n",
       "      <td>(none)</td>\n",
       "      <td>scratch</td>\n",
       "      <td>0.182533</td>\n",
       "    </tr>\n",
       "    <tr>\n",
       "      <th>4</th>\n",
       "      <td>dent</td>\n",
       "      <td>dent</td>\n",
       "      <td>0.778704</td>\n",
       "    </tr>\n",
       "    <tr>\n",
       "      <th>...</th>\n",
       "      <td>...</td>\n",
       "      <td>...</td>\n",
       "      <td>...</td>\n",
       "    </tr>\n",
       "    <tr>\n",
       "      <th>1185</th>\n",
       "      <td>crack</td>\n",
       "      <td>(none)</td>\n",
       "      <td>None</td>\n",
       "    </tr>\n",
       "    <tr>\n",
       "      <th>1186</th>\n",
       "      <td>crack</td>\n",
       "      <td>(none)</td>\n",
       "      <td>None</td>\n",
       "    </tr>\n",
       "    <tr>\n",
       "      <th>1187</th>\n",
       "      <td>(none)</td>\n",
       "      <td>tire flat</td>\n",
       "      <td>0.987871</td>\n",
       "    </tr>\n",
       "    <tr>\n",
       "      <th>1188</th>\n",
       "      <td>(none)</td>\n",
       "      <td>scratch</td>\n",
       "      <td>0.464329</td>\n",
       "    </tr>\n",
       "    <tr>\n",
       "      <th>1189</th>\n",
       "      <td>(none)</td>\n",
       "      <td>scratch</td>\n",
       "      <td>0.131755</td>\n",
       "    </tr>\n",
       "  </tbody>\n",
       "</table>\n",
       "<p>1190 rows × 3 columns</p>\n",
       "</div>"
      ],
      "text/plain": [
       "           true       pred      conf\n",
       "0     tire flat  tire flat    0.9999\n",
       "1     tire flat     (none)      None\n",
       "2       scratch    scratch  0.789197\n",
       "3        (none)    scratch  0.182533\n",
       "4          dent       dent  0.778704\n",
       "...         ...        ...       ...\n",
       "1185      crack     (none)      None\n",
       "1186      crack     (none)      None\n",
       "1187     (none)  tire flat  0.987871\n",
       "1188     (none)    scratch  0.464329\n",
       "1189     (none)    scratch  0.131755\n",
       "\n",
       "[1190 rows x 3 columns]"
      ]
     },
     "execution_count": 46,
     "metadata": {},
     "output_type": "execute_result"
    }
   ],
   "source": [
    "data"
   ]
  },
  {
   "cell_type": "code",
   "execution_count": 47,
   "id": "e26515cb-eaf6-416f-96f0-20c1e100fbcc",
   "metadata": {},
   "outputs": [],
   "source": [
    "def calculate_metrics(data, conf_threshold):\n",
    "    data_copy = data.copy()\n",
    "    data_copy.loc[(data_copy.conf < conf_threshold) & (data_copy.true != '(none)'), \"pred\"] = '(none)'\n",
    "    data_copy.loc[(data_copy.conf < conf_threshold) & (data_copy.true != '(none)'), \"conf\"] = None\n",
    "    data_conf_over_thr = data_copy[(data_copy.conf > conf_threshold) | (data_copy.conf.isna())]\n",
    "    precision_macro_avg = metric_macro_avg(data_conf_over_thr['true'], data_conf_over_thr['pred'], 'precision')\n",
    "    recall_macro_avg = metric_macro_avg(data_conf_over_thr['true'], data_conf_over_thr['pred'], 'recall')\n",
    "    f1_score_macro_avg = metric_macro_avg(data_conf_over_thr['true'], data_conf_over_thr['pred'], 'f1-score')\n",
    "    return conf_threshold, precision_macro_avg, recall_macro_avg, f1_score_macro_avg"
   ]
  },
  {
   "cell_type": "code",
   "execution_count": 48,
   "id": "b67fcdcb-f366-47fb-bbce-36c273e3c9cc",
   "metadata": {},
   "outputs": [],
   "source": [
    "def print_metrics(data, conf_threshold):\n",
    "    data_copy = data.copy()\n",
    "    data_copy.loc[(data_copy.conf < conf_threshold) & (data_copy.true != '(none)'), \"pred\"] = '(none)'\n",
    "    data_copy.loc[(data_copy.conf < conf_threshold) & (data_copy.true != '(none)'), \"conf\"] = None\n",
    "    data_conf_over_thr = data_copy[(data_copy.conf > conf_threshold) | (data_copy.conf.isna())]\n",
    "    classification_report = skm.classification_report(data_conf_over_thr['true'], data_conf_over_thr['pred'],digits=3, output_dict=False)\n",
    "    precision_macro_avg = metric_macro_avg(data_conf_over_thr['true'], data_conf_over_thr['pred'], 'precision')\n",
    "    recall_macro_avg = metric_macro_avg(data_conf_over_thr['true'], data_conf_over_thr['pred'], 'recall')\n",
    "    f1_score_macro_avg = metric_macro_avg(data_conf_over_thr['true'], data_conf_over_thr['pred'], 'f1-score')\n",
    "    print(classification_report)\n",
    "    print('Precision macro avg: ', precision_macro_avg)\n",
    "    print('Recall macro avg: ', recall_macro_avg)\n",
    "    print('F1-score macro avg: ', f1_score_macro_avg)"
   ]
  },
  {
   "cell_type": "code",
   "execution_count": 49,
   "id": "af4aeeb4-85f4-4333-9ed3-7ee81ab0bb87",
   "metadata": {},
   "outputs": [
    {
     "data": {
      "text/plain": [
       "[[0.0, 0.5944593213794586, 0.6577326685201094, 0.6227203340632951],\n",
       " [0.1, 0.630536340547512, 0.6357519818327819, 0.6316912245243278],\n",
       " [0.2, 0.6732946934083456, 0.6206543661704745, 0.6437472479189594],\n",
       " [0.3, 0.6943761178876743, 0.6065964536416705, 0.6433513376652307],\n",
       " [0.4, 0.7075880183852791, 0.5950000732466371, 0.6413773475859119],\n",
       " [0.5, 0.7232836106330082, 0.5891639587949834, 0.6438642916701239],\n",
       " [0.6, 0.7367749801349839, 0.5869924061348314, 0.6457626867639382],\n",
       " [0.7, 0.7509465672089543, 0.5794056426158645, 0.6445346892841634],\n",
       " [0.8, 0.7574410751018084, 0.5529851663352784, 0.6283319205254508],\n",
       " [0.9, 0.7730923206386624, 0.5303433661395894, 0.6164800004759964],\n",
       " [0.95, 0.7892125310321737, 0.5088139697656182, 0.6026608023390531],\n",
       " [0.96, 0.7995763300855486, 0.5029317821173918, 0.5990473549245975],\n",
       " [0.97, 0.7967802640164526, 0.49461942985738067, 0.5913917554555875],\n",
       " [0.98, 0.8042195354220341, 0.48294720095407345, 0.5830075775606046],\n",
       " [0.99, 0.8569353667392884, 0.47497990377862714, 0.5854178957647059]]"
      ]
     },
     "execution_count": 49,
     "metadata": {},
     "output_type": "execute_result"
    }
   ],
   "source": [
    "resultados_geral = []\n",
    "for conf_threshold in [0.00, 0.10, 0.20, 0.30, 0.40, 0.50, 0.60, 0.70, 0.80, 0.90, 0.95, 0.96, 0.97, 0.98, 0.99]:\n",
    "    conf_thr, precision, recall, f1_score = calculate_metrics(data, conf_threshold)\n",
    "    resultados_geral.append([conf_thr, precision, recall, f1_score])\n",
    "resultados_geral"
   ]
  },
  {
   "cell_type": "code",
   "execution_count": 50,
   "id": "87917d77-25dd-45ce-abc1-cbb1ad1d7576",
   "metadata": {},
   "outputs": [
    {
     "data": {
      "text/html": [
       "<div>\n",
       "<style scoped>\n",
       "    .dataframe tbody tr th:only-of-type {\n",
       "        vertical-align: middle;\n",
       "    }\n",
       "\n",
       "    .dataframe tbody tr th {\n",
       "        vertical-align: top;\n",
       "    }\n",
       "\n",
       "    .dataframe thead th {\n",
       "        text-align: right;\n",
       "    }\n",
       "</style>\n",
       "<table border=\"1\" class=\"dataframe\">\n",
       "  <thead>\n",
       "    <tr style=\"text-align: right;\">\n",
       "      <th></th>\n",
       "      <th>Limiar de confiança</th>\n",
       "      <th>Precisão</th>\n",
       "      <th>Revocação</th>\n",
       "      <th>F1-score</th>\n",
       "    </tr>\n",
       "  </thead>\n",
       "  <tbody>\n",
       "    <tr>\n",
       "      <th>0</th>\n",
       "      <td>0.00</td>\n",
       "      <td>59.4</td>\n",
       "      <td>65.8</td>\n",
       "      <td>62.3</td>\n",
       "    </tr>\n",
       "    <tr>\n",
       "      <th>1</th>\n",
       "      <td>0.10</td>\n",
       "      <td>63.1</td>\n",
       "      <td>63.6</td>\n",
       "      <td>63.2</td>\n",
       "    </tr>\n",
       "    <tr>\n",
       "      <th>2</th>\n",
       "      <td>0.20</td>\n",
       "      <td>67.3</td>\n",
       "      <td>62.1</td>\n",
       "      <td>64.4</td>\n",
       "    </tr>\n",
       "    <tr>\n",
       "      <th>3</th>\n",
       "      <td>0.30</td>\n",
       "      <td>69.4</td>\n",
       "      <td>60.7</td>\n",
       "      <td>64.3</td>\n",
       "    </tr>\n",
       "    <tr>\n",
       "      <th>4</th>\n",
       "      <td>0.40</td>\n",
       "      <td>70.8</td>\n",
       "      <td>59.5</td>\n",
       "      <td>64.1</td>\n",
       "    </tr>\n",
       "    <tr>\n",
       "      <th>5</th>\n",
       "      <td>0.50</td>\n",
       "      <td>72.3</td>\n",
       "      <td>58.9</td>\n",
       "      <td>64.4</td>\n",
       "    </tr>\n",
       "    <tr>\n",
       "      <th>6</th>\n",
       "      <td>0.60</td>\n",
       "      <td>73.7</td>\n",
       "      <td>58.7</td>\n",
       "      <td>64.6</td>\n",
       "    </tr>\n",
       "    <tr>\n",
       "      <th>7</th>\n",
       "      <td>0.70</td>\n",
       "      <td>75.1</td>\n",
       "      <td>57.9</td>\n",
       "      <td>64.5</td>\n",
       "    </tr>\n",
       "    <tr>\n",
       "      <th>8</th>\n",
       "      <td>0.80</td>\n",
       "      <td>75.7</td>\n",
       "      <td>55.3</td>\n",
       "      <td>62.8</td>\n",
       "    </tr>\n",
       "    <tr>\n",
       "      <th>9</th>\n",
       "      <td>0.90</td>\n",
       "      <td>77.3</td>\n",
       "      <td>53.0</td>\n",
       "      <td>61.6</td>\n",
       "    </tr>\n",
       "    <tr>\n",
       "      <th>10</th>\n",
       "      <td>0.95</td>\n",
       "      <td>78.9</td>\n",
       "      <td>50.9</td>\n",
       "      <td>60.3</td>\n",
       "    </tr>\n",
       "    <tr>\n",
       "      <th>11</th>\n",
       "      <td>0.96</td>\n",
       "      <td>80.0</td>\n",
       "      <td>50.3</td>\n",
       "      <td>59.9</td>\n",
       "    </tr>\n",
       "    <tr>\n",
       "      <th>12</th>\n",
       "      <td>0.97</td>\n",
       "      <td>79.7</td>\n",
       "      <td>49.5</td>\n",
       "      <td>59.1</td>\n",
       "    </tr>\n",
       "    <tr>\n",
       "      <th>13</th>\n",
       "      <td>0.98</td>\n",
       "      <td>80.4</td>\n",
       "      <td>48.3</td>\n",
       "      <td>58.3</td>\n",
       "    </tr>\n",
       "    <tr>\n",
       "      <th>14</th>\n",
       "      <td>0.99</td>\n",
       "      <td>85.7</td>\n",
       "      <td>47.5</td>\n",
       "      <td>58.5</td>\n",
       "    </tr>\n",
       "  </tbody>\n",
       "</table>\n",
       "</div>"
      ],
      "text/plain": [
       "    Limiar de confiança  Precisão  Revocação  F1-score\n",
       "0                  0.00      59.4       65.8      62.3\n",
       "1                  0.10      63.1       63.6      63.2\n",
       "2                  0.20      67.3       62.1      64.4\n",
       "3                  0.30      69.4       60.7      64.3\n",
       "4                  0.40      70.8       59.5      64.1\n",
       "5                  0.50      72.3       58.9      64.4\n",
       "6                  0.60      73.7       58.7      64.6\n",
       "7                  0.70      75.1       57.9      64.5\n",
       "8                  0.80      75.7       55.3      62.8\n",
       "9                  0.90      77.3       53.0      61.6\n",
       "10                 0.95      78.9       50.9      60.3\n",
       "11                 0.96      80.0       50.3      59.9\n",
       "12                 0.97      79.7       49.5      59.1\n",
       "13                 0.98      80.4       48.3      58.3\n",
       "14                 0.99      85.7       47.5      58.5"
      ]
     },
     "execution_count": 50,
     "metadata": {},
     "output_type": "execute_result"
    }
   ],
   "source": [
    "resultados_geral_df = pd.DataFrame(resultados_geral, columns=['Limiar de confiança', 'Precisão', 'Revocação', 'F1-score'])\n",
    "colunas_metricas = ['Precisão', 'Revocação', 'F1-score']\n",
    "resultados_geral_df[colunas_metricas] = resultados_geral_df[colunas_metricas]*100\n",
    "resultados_geral_df[colunas_metricas] = resultados_geral_df[colunas_metricas].round(1)\n",
    "resultados_geral_df"
   ]
  },
  {
   "cell_type": "markdown",
   "id": "90e104df-b6d9-43b5-933b-1b7e3d5f5c07",
   "metadata": {},
   "source": [
    "### Detecções com confidence >= 0.70"
   ]
  },
  {
   "cell_type": "code",
   "execution_count": 51,
   "id": "30fdcd4b-b36f-457a-b0e3-70cd638821d7",
   "metadata": {},
   "outputs": [],
   "source": [
    "# Only include predictions with `confidence` of at least 0.70\n",
    "predictions_filtered_view = dataset.set_field(\n",
    "    \"predictions.detections\",\n",
    "    F(\"detections\").filter(F(\"confidence\") > 0.70)\n",
    ")"
   ]
  },
  {
   "cell_type": "code",
   "execution_count": 52,
   "id": "d2d18fbd-e1b1-4df9-8d55-dd9f4c0585ef",
   "metadata": {},
   "outputs": [
    {
     "name": "stdout",
     "output_type": "stream",
     "text": [
      "Evaluating detections...\n",
      " 100% |█████████████████| 374/374 [10.0s elapsed, 0s remaining, 37.2 samples/s]     \n",
      "Performing IoU sweep...\n",
      " 100% |█████████████████| 374/374 [8.0s elapsed, 0s remaining, 51.0 samples/s]      \n",
      "               precision    recall  f1-score   support\n",
      "\n",
      "        crack      0.429     0.171     0.245        70\n",
      "         dent      0.761     0.500     0.604       236\n",
      "glass shatter      0.957     0.930     0.943        71\n",
      "  lamp broken      0.705     0.623     0.662        69\n",
      "      scratch      0.726     0.440     0.548       307\n",
      "    tire flat      0.929     0.812     0.867        32\n",
      "\n",
      "    micro avg      0.759     0.510     0.610       785\n",
      "    macro avg      0.751     0.579     0.645       785\n",
      " weighted avg      0.737     0.510     0.596       785\n",
      "\n"
     ]
    }
   ],
   "source": [
    "results_predictions_over_70 = predictions_filtered_view.evaluate_detections(\n",
    "    \"predictions\",\n",
    "    gt_field=\"ground_truth_segmentations\",\n",
    "    method=\"coco\",\n",
    "    compute_mAP=True,\n",
    "    use_masks=True,\n",
    "    eval_key=\"eval\" # para criar e popular campos eval_tp, eval_fp e eval_fn\n",
    ")\n",
    "results_predictions_over_70.print_report(digits=3)"
   ]
  },
  {
   "cell_type": "markdown",
   "id": "139760fd-bce3-40d5-9a74-e81c3684e0b8",
   "metadata": {},
   "source": [
    "# Visualização"
   ]
  },
  {
   "cell_type": "markdown",
   "id": "cf73f939",
   "metadata": {},
   "source": [
    "## Todo o ground truth e instâncias preditas acima do limiar de 0.70"
   ]
  },
  {
   "cell_type": "code",
   "execution_count": 53,
   "id": "e005d1fb",
   "metadata": {},
   "outputs": [
    {
     "data": {
      "text/html": [
       "\n",
       "        <iframe\n",
       "            width=\"100%\"\n",
       "            height=\"800\"\n",
       "            src=\"http://localhost:5151/?notebook=True&subscription=99d1d36c-318d-4272-9f1e-435ed076ea45\"\n",
       "            frameborder=\"0\"\n",
       "            allowfullscreen\n",
       "            \n",
       "        ></iframe>\n",
       "        "
      ],
      "text/plain": [
       "<IPython.lib.display.IFrame at 0x7f52fbcbb790>"
      ]
     },
     "metadata": {},
     "output_type": "display_data"
    }
   ],
   "source": [
    "session = fo.launch_app(view=predictions_filtered_view)"
   ]
  },
  {
   "cell_type": "markdown",
   "id": "8392ee37",
   "metadata": {},
   "source": [
    "## Apenas imagens com instâncias pequenas"
   ]
  },
  {
   "cell_type": "code",
   "execution_count": 54,
   "id": "ab57af59",
   "metadata": {},
   "outputs": [
    {
     "data": {
      "text/html": [
       "\n",
       "        <iframe\n",
       "            width=\"100%\"\n",
       "            height=\"800\"\n",
       "            src=\"http://localhost:5151/?notebook=True&subscription=794347c0-d98e-4334-b0dd-fe644a88588e\"\n",
       "            frameborder=\"0\"\n",
       "            allowfullscreen\n",
       "            \n",
       "        ></iframe>\n",
       "        "
      ],
      "text/plain": [
       "<IPython.lib.display.IFrame at 0x7f52fa4e5610>"
      ]
     },
     "metadata": {},
     "output_type": "display_data"
    }
   ],
   "source": [
    "# exibe apenas anotações com área de máscara pequena (menor que 1024 pixels). Imagens que não tenham anotações pequenas não entram nessa view\n",
    "view = predictions_filtered_view.filter_labels(\"ground_truth_segmentations.detections\", F(\"area\") < 1024)\n",
    "\n",
    "# caso queira exibir todas as anotações dessas imagens, usar esse código comentado\n",
    "# filter = F(\"area\") < 1024\n",
    "# view = dataset.match_labels(filter=filter, fields=\"ground_truth_segmentations\")\n",
    "\n",
    "session = fo.launch_app(view=view)"
   ]
  },
  {
   "cell_type": "code",
   "execution_count": 55,
   "id": "954523de",
   "metadata": {},
   "outputs": [
    {
     "data": {
      "text/plain": [
       "Dataset:     2024.02.15.17.19.51\n",
       "Media type:  image\n",
       "Num samples: 374\n",
       "Sample fields:\n",
       "    id:                         fiftyone.core.fields.ObjectIdField\n",
       "    filepath:                   fiftyone.core.fields.StringField\n",
       "    tags:                       fiftyone.core.fields.ListField(fiftyone.core.fields.StringField)\n",
       "    metadata:                   fiftyone.core.fields.EmbeddedDocumentField(fiftyone.core.metadata.ImageMetadata)\n",
       "    ground_truth_segmentations: fiftyone.core.fields.EmbeddedDocumentField(fiftyone.core.labels.Detections)\n",
       "    ground_truth_coco_id:       fiftyone.core.fields.IntField\n",
       "    image_id:                   fiftyone.core.fields.IntField\n",
       "    predictions:                fiftyone.core.fields.EmbeddedDocumentField(fiftyone.core.labels.Detections)\n",
       "    eval_tp:                    fiftyone.core.fields.IntField\n",
       "    eval_fp:                    fiftyone.core.fields.IntField\n",
       "    eval_fn:                    fiftyone.core.fields.IntField\n",
       "View stages:\n",
       "    1. SetField(field='predictions.detections', expr={'$filter': {'as': 'this', 'cond': {...}, 'input': '$predictions.detections'}})"
      ]
     },
     "execution_count": 55,
     "metadata": {},
     "output_type": "execute_result"
    }
   ],
   "source": [
    "predictions_filtered_view"
   ]
  },
  {
   "cell_type": "markdown",
   "id": "f16bab88",
   "metadata": {},
   "source": [
    "## Outras visualizações"
   ]
  },
  {
   "cell_type": "markdown",
   "id": "1416b90f-5bbb-4c9b-b63f-45947a5f2bc9",
   "metadata": {},
   "source": [
    "Usando evaluation patches transformamos o dataset (ou view) em uma nova visualização que contém uma amostra para cada verdadeiro positivo, falso positivo e falso negativo."
   ]
  },
  {
   "cell_type": "code",
   "execution_count": 56,
   "id": "eec532b4-5338-479b-8f68-5169d839d462",
   "metadata": {},
   "outputs": [
    {
     "name": "stdout",
     "output_type": "stream",
     "text": [
      "Dataset:     2024.02.15.17.19.51\n",
      "Media type:  image\n",
      "Num patches: 912\n",
      "Patch fields:\n",
      "    id:                         fiftyone.core.fields.ObjectIdField\n",
      "    sample_id:                  fiftyone.core.fields.ObjectIdField\n",
      "    filepath:                   fiftyone.core.fields.StringField\n",
      "    tags:                       fiftyone.core.fields.ListField(fiftyone.core.fields.StringField)\n",
      "    metadata:                   fiftyone.core.fields.EmbeddedDocumentField(fiftyone.core.metadata.ImageMetadata)\n",
      "    ground_truth_segmentations: fiftyone.core.fields.EmbeddedDocumentField(fiftyone.core.labels.Detections)\n",
      "    predictions:                fiftyone.core.fields.EmbeddedDocumentField(fiftyone.core.labels.Detections)\n",
      "    crowd:                      fiftyone.core.fields.BooleanField\n",
      "    type:                       fiftyone.core.fields.StringField\n",
      "    iou:                        fiftyone.core.fields.FloatField\n",
      "View stages:\n",
      "    1. SetField(field='predictions.detections', expr={'$filter': {'as': 'this', 'cond': {...}, 'input': '$predictions.detections'}})\n",
      "    2. ToEvaluationPatches(eval_key='eval', config=None)\n",
      "{'fp': 127, 'fn': 385, 'tp': 400}\n"
     ]
    },
    {
     "data": {
      "text/html": [
       "\n",
       "        <iframe\n",
       "            width=\"100%\"\n",
       "            height=\"800\"\n",
       "            src=\"http://localhost:5151/?notebook=True&subscription=456adf07-4713-46f3-b6b7-e9d668381db3\"\n",
       "            frameborder=\"0\"\n",
       "            allowfullscreen\n",
       "            \n",
       "        ></iframe>\n",
       "        "
      ],
      "text/plain": [
       "<IPython.lib.display.IFrame at 0x7f52fa4dc940>"
      ]
     },
     "metadata": {},
     "output_type": "display_data"
    }
   ],
   "source": [
    "# Converte para evaluation patches\n",
    "eval_patches = predictions_filtered_view.to_evaluation_patches(\"eval\")\n",
    "print(eval_patches)\n",
    "\n",
    "print(eval_patches.count_values(\"type\"))\n",
    "\n",
    "session.view = eval_patches"
   ]
  },
  {
   "cell_type": "code",
   "execution_count": 57,
   "id": "bea95ba4",
   "metadata": {},
   "outputs": [],
   "source": [
    "# Crie primeiro uma view em ordem decrescente no numero de falsos positivos na imagem e\n",
    "# filtra para somente exibir predições falso positivas\n",
    "view = (\n",
    "    predictions_filtered_view\n",
    "    .sort_by(\"eval_fp\", reverse=True)\n",
    "    .filter_labels(\"predictions\", F(\"eval\") == \"fp\")\n",
    ")"
   ]
  }
 ],
 "metadata": {
  "kernelspec": {
   "display_name": "Python 3 (ipykernel)",
   "language": "python",
   "name": "python3"
  },
  "language_info": {
   "codemirror_mode": {
    "name": "ipython",
    "version": 3
   },
   "file_extension": ".py",
   "mimetype": "text/x-python",
   "name": "python",
   "nbconvert_exporter": "python",
   "pygments_lexer": "ipython3",
   "version": "3.8.18"
  }
 },
 "nbformat": 4,
 "nbformat_minor": 5
}
